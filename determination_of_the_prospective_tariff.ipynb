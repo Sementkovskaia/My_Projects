{
 "cells": [
  {
   "cell_type": "markdown",
   "metadata": {},
   "source": [
    "<div style=\"border:solid grey 1px; padding: 20px\">\n",
    "    \n",
    "# Определение перспективного тарифа для телеком-компании\n",
    "\n",
    "Вы аналитик компании «Мегалайн» — федерального оператора сотовой связи. Клиентам предлагают два тарифных плана: «Смарт» и «Ультра». Чтобы скорректировать рекламный бюджет, коммерческий департамент хочет понять, какой тариф приносит больше денег.\n",
    "\n",
    "Вам предстоит сделать предварительный анализ тарифов на небольшой выборке клиентов. В вашем распоряжении данные 500 пользователей «Мегалайна»: кто они, откуда, каким тарифом пользуются, сколько звонков и сообщений каждый отправил за 2018 год. Нужно проанализировать поведение клиентов и сделать вывод — какой тариф лучше.\n",
    "\n",
    "**Тариф «Смарт»**\n",
    "1. Ежемесячная плата: 550 рублей\n",
    "2. Включено 500 минут разговора, 50 сообщений и 15 Гб интернет-трафика\n",
    "3. Стоимость услуг сверх тарифного пакета:     \n",
    "    - минута разговора: 3 рубля («Мегалайн» всегда округляет вверх значения минут и мегабайтов. Если пользователь проговорил всего 1 секунду, в тарифе засчитывается целая минута); \n",
    "    - сообщение: 3 рубля;\n",
    "    - 1 Гб интернет-трафика: 200 рублей.\n",
    "\n",
    "**Тариф «Ультра»**\n",
    "1. Ежемесячная плата: 1950 рублей\n",
    "2. Включено 3000 минут разговора, 1000 сообщений и 30 Гб интернет-трафика\n",
    "3. Стоимость услуг сверх тарифного пакета: \n",
    "    - минута разговора: 1 рубль;\n",
    "    - сообщение: 1 рубль;\n",
    "    - 1 Гб интернет-трафика: 150 рублей.\n",
    "    \n",
    "**Примечание:**\n",
    "    \n",
    "«Мегалайн» всегда округляет секунды до минут, а мегабайты — до гигабайт. Каждый звонок округляется отдельно: даже если он длился всего 1 секунду, будет засчитан как 1 минута.\n",
    "   \n",
    "Для веб-трафика отдельные сессии не считаются. Вместо этого общая сумма за месяц округляется в бо́льшую сторону. Если абонент использует 1025 мегабайт в этом месяце, с него возьмут плату за 2 гигабайта.\n",
    "    </div>"
   ]
  },
  {
   "cell_type": "markdown",
   "metadata": {},
   "source": [
    "__Цель исследования__:\n",
    "- выбрать лучший тариф из предложенных двух: «Смарт», «Ультра».\n",
    "\n",
    "\n",
    "__Ход исследования__\n",
    "\n",
    "Данные компании «Мегалайн» — небольшая выборка клиентов (500 пользователей) за 2018 год, получаем из файлов:\n",
    "- calls.csv;\n",
    "- internet.csv;\n",
    "- messages.csv;\n",
    "- tariffs.csv;\n",
    "- users.csv.\n",
    "\n",
    "О качестве данных ничего не известно, поэтому перед проверкой гипотезы проведем обзор данных.\n",
    "\n",
    "Наше исследование пройдёт в четыре этапа:\n",
    "\n",
    "- обзор данных;\n",
    "- предобработка данных;\n",
    "- исследовательский анализ данных;\n",
    "- проверка гипотез."
   ]
  },
  {
   "cell_type": "markdown",
   "metadata": {},
   "source": [
    "## Изучение данных"
   ]
  },
  {
   "cell_type": "markdown",
   "metadata": {},
   "source": [
    "Импортируем библиотеки для работы с сетами."
   ]
  },
  {
   "cell_type": "code",
   "execution_count": 1,
   "metadata": {},
   "outputs": [],
   "source": [
    "import pandas as pd # для работы с сетом\n",
    "from matplotlib import pyplot as plt # для построения графиков\n",
    "import numpy as np # для использования математических функций\n",
    "from scipy import stats as st # для проверки гипотез"
   ]
  },
  {
   "cell_type": "markdown",
   "metadata": {},
   "source": [
    "Прочитаем файлы."
   ]
  },
  {
   "cell_type": "code",
   "execution_count": 2,
   "metadata": {},
   "outputs": [],
   "source": [
    "calls = pd.read_csv('calls.csv')"
   ]
  },
  {
   "cell_type": "code",
   "execution_count": 3,
   "metadata": {},
   "outputs": [],
   "source": [
    "internet = pd.read_csv('internet.csv')"
   ]
  },
  {
   "cell_type": "code",
   "execution_count": 4,
   "metadata": {},
   "outputs": [],
   "source": [
    "messages = pd.read_csv('messages.csv')"
   ]
  },
  {
   "cell_type": "code",
   "execution_count": 5,
   "metadata": {},
   "outputs": [],
   "source": [
    "tariffs = pd.read_csv('tariffs.csv')"
   ]
  },
  {
   "cell_type": "code",
   "execution_count": 6,
   "metadata": {},
   "outputs": [],
   "source": [
    "users = pd.read_csv('users.csv')"
   ]
  },
  {
   "cell_type": "markdown",
   "metadata": {},
   "source": [
    "Изучим отдельно каждый сет, с помощью методов head(), info(), shape(), describe()."
   ]
  },
  {
   "cell_type": "markdown",
   "metadata": {},
   "source": [
    "### Информация о звонках"
   ]
  },
  {
   "cell_type": "code",
   "execution_count": 7,
   "metadata": {},
   "outputs": [
    {
     "data": {
      "text/html": [
       "<div>\n",
       "<style scoped>\n",
       "    .dataframe tbody tr th:only-of-type {\n",
       "        vertical-align: middle;\n",
       "    }\n",
       "\n",
       "    .dataframe tbody tr th {\n",
       "        vertical-align: top;\n",
       "    }\n",
       "\n",
       "    .dataframe thead th {\n",
       "        text-align: right;\n",
       "    }\n",
       "</style>\n",
       "<table border=\"1\" class=\"dataframe\">\n",
       "  <thead>\n",
       "    <tr style=\"text-align: right;\">\n",
       "      <th></th>\n",
       "      <th>id</th>\n",
       "      <th>call_date</th>\n",
       "      <th>duration</th>\n",
       "      <th>user_id</th>\n",
       "    </tr>\n",
       "  </thead>\n",
       "  <tbody>\n",
       "    <tr>\n",
       "      <th>0</th>\n",
       "      <td>1000_0</td>\n",
       "      <td>2018-07-25</td>\n",
       "      <td>0.00</td>\n",
       "      <td>1000</td>\n",
       "    </tr>\n",
       "    <tr>\n",
       "      <th>1</th>\n",
       "      <td>1000_1</td>\n",
       "      <td>2018-08-17</td>\n",
       "      <td>0.00</td>\n",
       "      <td>1000</td>\n",
       "    </tr>\n",
       "    <tr>\n",
       "      <th>2</th>\n",
       "      <td>1000_2</td>\n",
       "      <td>2018-06-11</td>\n",
       "      <td>2.85</td>\n",
       "      <td>1000</td>\n",
       "    </tr>\n",
       "    <tr>\n",
       "      <th>3</th>\n",
       "      <td>1000_3</td>\n",
       "      <td>2018-09-21</td>\n",
       "      <td>13.80</td>\n",
       "      <td>1000</td>\n",
       "    </tr>\n",
       "    <tr>\n",
       "      <th>4</th>\n",
       "      <td>1000_4</td>\n",
       "      <td>2018-12-15</td>\n",
       "      <td>5.18</td>\n",
       "      <td>1000</td>\n",
       "    </tr>\n",
       "    <tr>\n",
       "      <th>5</th>\n",
       "      <td>1000_5</td>\n",
       "      <td>2018-11-02</td>\n",
       "      <td>0.00</td>\n",
       "      <td>1000</td>\n",
       "    </tr>\n",
       "    <tr>\n",
       "      <th>6</th>\n",
       "      <td>1000_6</td>\n",
       "      <td>2018-10-18</td>\n",
       "      <td>0.00</td>\n",
       "      <td>1000</td>\n",
       "    </tr>\n",
       "    <tr>\n",
       "      <th>7</th>\n",
       "      <td>1000_7</td>\n",
       "      <td>2018-08-22</td>\n",
       "      <td>18.31</td>\n",
       "      <td>1000</td>\n",
       "    </tr>\n",
       "    <tr>\n",
       "      <th>8</th>\n",
       "      <td>1000_8</td>\n",
       "      <td>2018-09-15</td>\n",
       "      <td>18.44</td>\n",
       "      <td>1000</td>\n",
       "    </tr>\n",
       "    <tr>\n",
       "      <th>9</th>\n",
       "      <td>1000_9</td>\n",
       "      <td>2018-08-15</td>\n",
       "      <td>0.00</td>\n",
       "      <td>1000</td>\n",
       "    </tr>\n",
       "  </tbody>\n",
       "</table>\n",
       "</div>"
      ],
      "text/plain": [
       "       id   call_date  duration  user_id\n",
       "0  1000_0  2018-07-25      0.00     1000\n",
       "1  1000_1  2018-08-17      0.00     1000\n",
       "2  1000_2  2018-06-11      2.85     1000\n",
       "3  1000_3  2018-09-21     13.80     1000\n",
       "4  1000_4  2018-12-15      5.18     1000\n",
       "5  1000_5  2018-11-02      0.00     1000\n",
       "6  1000_6  2018-10-18      0.00     1000\n",
       "7  1000_7  2018-08-22     18.31     1000\n",
       "8  1000_8  2018-09-15     18.44     1000\n",
       "9  1000_9  2018-08-15      0.00     1000"
      ]
     },
     "execution_count": 7,
     "metadata": {},
     "output_type": "execute_result"
    }
   ],
   "source": [
    "calls.head(10)"
   ]
  },
  {
   "cell_type": "code",
   "execution_count": 8,
   "metadata": {},
   "outputs": [
    {
     "name": "stdout",
     "output_type": "stream",
     "text": [
      "<class 'pandas.core.frame.DataFrame'>\n",
      "RangeIndex: 202607 entries, 0 to 202606\n",
      "Data columns (total 4 columns):\n",
      " #   Column     Non-Null Count   Dtype  \n",
      "---  ------     --------------   -----  \n",
      " 0   id         202607 non-null  object \n",
      " 1   call_date  202607 non-null  object \n",
      " 2   duration   202607 non-null  float64\n",
      " 3   user_id    202607 non-null  int64  \n",
      "dtypes: float64(1), int64(1), object(2)\n",
      "memory usage: 6.2+ MB\n"
     ]
    }
   ],
   "source": [
    "calls.info()"
   ]
  },
  {
   "cell_type": "code",
   "execution_count": 9,
   "metadata": {},
   "outputs": [
    {
     "data": {
      "text/plain": [
       "(202607, 4)"
      ]
     },
     "execution_count": 9,
     "metadata": {},
     "output_type": "execute_result"
    }
   ],
   "source": [
    "calls.shape"
   ]
  },
  {
   "cell_type": "code",
   "execution_count": 10,
   "metadata": {},
   "outputs": [
    {
     "data": {
      "text/html": [
       "<div>\n",
       "<style scoped>\n",
       "    .dataframe tbody tr th:only-of-type {\n",
       "        vertical-align: middle;\n",
       "    }\n",
       "\n",
       "    .dataframe tbody tr th {\n",
       "        vertical-align: top;\n",
       "    }\n",
       "\n",
       "    .dataframe thead th {\n",
       "        text-align: right;\n",
       "    }\n",
       "</style>\n",
       "<table border=\"1\" class=\"dataframe\">\n",
       "  <thead>\n",
       "    <tr style=\"text-align: right;\">\n",
       "      <th></th>\n",
       "      <th>duration</th>\n",
       "      <th>user_id</th>\n",
       "    </tr>\n",
       "  </thead>\n",
       "  <tbody>\n",
       "    <tr>\n",
       "      <th>count</th>\n",
       "      <td>202607.000000</td>\n",
       "      <td>202607.000000</td>\n",
       "    </tr>\n",
       "    <tr>\n",
       "      <th>mean</th>\n",
       "      <td>6.755887</td>\n",
       "      <td>1253.940619</td>\n",
       "    </tr>\n",
       "    <tr>\n",
       "      <th>std</th>\n",
       "      <td>5.843365</td>\n",
       "      <td>144.722751</td>\n",
       "    </tr>\n",
       "    <tr>\n",
       "      <th>min</th>\n",
       "      <td>0.000000</td>\n",
       "      <td>1000.000000</td>\n",
       "    </tr>\n",
       "    <tr>\n",
       "      <th>25%</th>\n",
       "      <td>1.300000</td>\n",
       "      <td>1126.000000</td>\n",
       "    </tr>\n",
       "    <tr>\n",
       "      <th>50%</th>\n",
       "      <td>6.000000</td>\n",
       "      <td>1260.000000</td>\n",
       "    </tr>\n",
       "    <tr>\n",
       "      <th>75%</th>\n",
       "      <td>10.700000</td>\n",
       "      <td>1379.000000</td>\n",
       "    </tr>\n",
       "    <tr>\n",
       "      <th>max</th>\n",
       "      <td>38.000000</td>\n",
       "      <td>1499.000000</td>\n",
       "    </tr>\n",
       "  </tbody>\n",
       "</table>\n",
       "</div>"
      ],
      "text/plain": [
       "            duration        user_id\n",
       "count  202607.000000  202607.000000\n",
       "mean        6.755887    1253.940619\n",
       "std         5.843365     144.722751\n",
       "min         0.000000    1000.000000\n",
       "25%         1.300000    1126.000000\n",
       "50%         6.000000    1260.000000\n",
       "75%        10.700000    1379.000000\n",
       "max        38.000000    1499.000000"
      ]
     },
     "execution_count": 10,
     "metadata": {},
     "output_type": "execute_result"
    }
   ],
   "source": [
    "calls.describe()"
   ]
  },
  {
   "cell_type": "markdown",
   "metadata": {},
   "source": [
    "В таблице **calls**:\n",
    "- 202607 строк;\n",
    "- 4 столбца;\n",
    "- 3 типа данных: float64, int64, object.\n",
    "    \n",
    "Согласно документации к данным, таблица информация о звонках:\n",
    "- **_id_** — уникальный номер звонка;\n",
    "- **_call_date_** — дата звонка;\n",
    "- **_duration_** — длительность звонка в минутах;\n",
    "- **_user_id_** — идентификатор пользователя, сделавшего звонок.\n",
    "\n",
    "В названии колонок несоответствия не обнаружены, пропуски отсутствуют.\n",
    "\n",
    "По типу данных, в столбце **_call_date_** изменить тип данных на datetime.\n",
    "    \n",
    "В столбце **_duration_** минимальное значение равно нулю, это не ошибка, так в таблице обозначается пропущенные звонки.\n",
    "   "
   ]
  },
  {
   "cell_type": "markdown",
   "metadata": {},
   "source": [
    "### Информация об интернет-сессиях"
   ]
  },
  {
   "cell_type": "code",
   "execution_count": 11,
   "metadata": {},
   "outputs": [
    {
     "data": {
      "text/html": [
       "<div>\n",
       "<style scoped>\n",
       "    .dataframe tbody tr th:only-of-type {\n",
       "        vertical-align: middle;\n",
       "    }\n",
       "\n",
       "    .dataframe tbody tr th {\n",
       "        vertical-align: top;\n",
       "    }\n",
       "\n",
       "    .dataframe thead th {\n",
       "        text-align: right;\n",
       "    }\n",
       "</style>\n",
       "<table border=\"1\" class=\"dataframe\">\n",
       "  <thead>\n",
       "    <tr style=\"text-align: right;\">\n",
       "      <th></th>\n",
       "      <th>Unnamed: 0</th>\n",
       "      <th>id</th>\n",
       "      <th>mb_used</th>\n",
       "      <th>session_date</th>\n",
       "      <th>user_id</th>\n",
       "    </tr>\n",
       "  </thead>\n",
       "  <tbody>\n",
       "    <tr>\n",
       "      <th>0</th>\n",
       "      <td>0</td>\n",
       "      <td>1000_0</td>\n",
       "      <td>112.95</td>\n",
       "      <td>2018-11-25</td>\n",
       "      <td>1000</td>\n",
       "    </tr>\n",
       "    <tr>\n",
       "      <th>1</th>\n",
       "      <td>1</td>\n",
       "      <td>1000_1</td>\n",
       "      <td>1052.81</td>\n",
       "      <td>2018-09-07</td>\n",
       "      <td>1000</td>\n",
       "    </tr>\n",
       "    <tr>\n",
       "      <th>2</th>\n",
       "      <td>2</td>\n",
       "      <td>1000_2</td>\n",
       "      <td>1197.26</td>\n",
       "      <td>2018-06-25</td>\n",
       "      <td>1000</td>\n",
       "    </tr>\n",
       "    <tr>\n",
       "      <th>3</th>\n",
       "      <td>3</td>\n",
       "      <td>1000_3</td>\n",
       "      <td>550.27</td>\n",
       "      <td>2018-08-22</td>\n",
       "      <td>1000</td>\n",
       "    </tr>\n",
       "    <tr>\n",
       "      <th>4</th>\n",
       "      <td>4</td>\n",
       "      <td>1000_4</td>\n",
       "      <td>302.56</td>\n",
       "      <td>2018-09-24</td>\n",
       "      <td>1000</td>\n",
       "    </tr>\n",
       "    <tr>\n",
       "      <th>5</th>\n",
       "      <td>5</td>\n",
       "      <td>1000_5</td>\n",
       "      <td>399.97</td>\n",
       "      <td>2018-10-02</td>\n",
       "      <td>1000</td>\n",
       "    </tr>\n",
       "    <tr>\n",
       "      <th>6</th>\n",
       "      <td>6</td>\n",
       "      <td>1000_6</td>\n",
       "      <td>540.08</td>\n",
       "      <td>2018-09-07</td>\n",
       "      <td>1000</td>\n",
       "    </tr>\n",
       "    <tr>\n",
       "      <th>7</th>\n",
       "      <td>7</td>\n",
       "      <td>1000_7</td>\n",
       "      <td>415.70</td>\n",
       "      <td>2018-07-11</td>\n",
       "      <td>1000</td>\n",
       "    </tr>\n",
       "    <tr>\n",
       "      <th>8</th>\n",
       "      <td>8</td>\n",
       "      <td>1000_8</td>\n",
       "      <td>505.40</td>\n",
       "      <td>2018-10-08</td>\n",
       "      <td>1000</td>\n",
       "    </tr>\n",
       "    <tr>\n",
       "      <th>9</th>\n",
       "      <td>9</td>\n",
       "      <td>1000_9</td>\n",
       "      <td>345.54</td>\n",
       "      <td>2018-09-03</td>\n",
       "      <td>1000</td>\n",
       "    </tr>\n",
       "  </tbody>\n",
       "</table>\n",
       "</div>"
      ],
      "text/plain": [
       "   Unnamed: 0      id  mb_used session_date  user_id\n",
       "0           0  1000_0   112.95   2018-11-25     1000\n",
       "1           1  1000_1  1052.81   2018-09-07     1000\n",
       "2           2  1000_2  1197.26   2018-06-25     1000\n",
       "3           3  1000_3   550.27   2018-08-22     1000\n",
       "4           4  1000_4   302.56   2018-09-24     1000\n",
       "5           5  1000_5   399.97   2018-10-02     1000\n",
       "6           6  1000_6   540.08   2018-09-07     1000\n",
       "7           7  1000_7   415.70   2018-07-11     1000\n",
       "8           8  1000_8   505.40   2018-10-08     1000\n",
       "9           9  1000_9   345.54   2018-09-03     1000"
      ]
     },
     "execution_count": 11,
     "metadata": {},
     "output_type": "execute_result"
    }
   ],
   "source": [
    "internet.head(10)"
   ]
  },
  {
   "cell_type": "code",
   "execution_count": 12,
   "metadata": {},
   "outputs": [
    {
     "name": "stdout",
     "output_type": "stream",
     "text": [
      "<class 'pandas.core.frame.DataFrame'>\n",
      "RangeIndex: 149396 entries, 0 to 149395\n",
      "Data columns (total 5 columns):\n",
      " #   Column        Non-Null Count   Dtype  \n",
      "---  ------        --------------   -----  \n",
      " 0   Unnamed: 0    149396 non-null  int64  \n",
      " 1   id            149396 non-null  object \n",
      " 2   mb_used       149396 non-null  float64\n",
      " 3   session_date  149396 non-null  object \n",
      " 4   user_id       149396 non-null  int64  \n",
      "dtypes: float64(1), int64(2), object(2)\n",
      "memory usage: 5.7+ MB\n"
     ]
    }
   ],
   "source": [
    "internet.info()"
   ]
  },
  {
   "cell_type": "code",
   "execution_count": 13,
   "metadata": {},
   "outputs": [
    {
     "data": {
      "text/plain": [
       "(149396, 5)"
      ]
     },
     "execution_count": 13,
     "metadata": {},
     "output_type": "execute_result"
    }
   ],
   "source": [
    "internet.shape"
   ]
  },
  {
   "cell_type": "code",
   "execution_count": 14,
   "metadata": {},
   "outputs": [
    {
     "data": {
      "text/html": [
       "<div>\n",
       "<style scoped>\n",
       "    .dataframe tbody tr th:only-of-type {\n",
       "        vertical-align: middle;\n",
       "    }\n",
       "\n",
       "    .dataframe tbody tr th {\n",
       "        vertical-align: top;\n",
       "    }\n",
       "\n",
       "    .dataframe thead th {\n",
       "        text-align: right;\n",
       "    }\n",
       "</style>\n",
       "<table border=\"1\" class=\"dataframe\">\n",
       "  <thead>\n",
       "    <tr style=\"text-align: right;\">\n",
       "      <th></th>\n",
       "      <th>Unnamed: 0</th>\n",
       "      <th>mb_used</th>\n",
       "      <th>user_id</th>\n",
       "    </tr>\n",
       "  </thead>\n",
       "  <tbody>\n",
       "    <tr>\n",
       "      <th>count</th>\n",
       "      <td>149396.000000</td>\n",
       "      <td>149396.000000</td>\n",
       "      <td>149396.000000</td>\n",
       "    </tr>\n",
       "    <tr>\n",
       "      <th>mean</th>\n",
       "      <td>74697.500000</td>\n",
       "      <td>370.192426</td>\n",
       "      <td>1252.099842</td>\n",
       "    </tr>\n",
       "    <tr>\n",
       "      <th>std</th>\n",
       "      <td>43127.054745</td>\n",
       "      <td>278.300951</td>\n",
       "      <td>144.050823</td>\n",
       "    </tr>\n",
       "    <tr>\n",
       "      <th>min</th>\n",
       "      <td>0.000000</td>\n",
       "      <td>0.000000</td>\n",
       "      <td>1000.000000</td>\n",
       "    </tr>\n",
       "    <tr>\n",
       "      <th>25%</th>\n",
       "      <td>37348.750000</td>\n",
       "      <td>138.187500</td>\n",
       "      <td>1130.000000</td>\n",
       "    </tr>\n",
       "    <tr>\n",
       "      <th>50%</th>\n",
       "      <td>74697.500000</td>\n",
       "      <td>348.015000</td>\n",
       "      <td>1251.000000</td>\n",
       "    </tr>\n",
       "    <tr>\n",
       "      <th>75%</th>\n",
       "      <td>112046.250000</td>\n",
       "      <td>559.552500</td>\n",
       "      <td>1380.000000</td>\n",
       "    </tr>\n",
       "    <tr>\n",
       "      <th>max</th>\n",
       "      <td>149395.000000</td>\n",
       "      <td>1724.830000</td>\n",
       "      <td>1499.000000</td>\n",
       "    </tr>\n",
       "  </tbody>\n",
       "</table>\n",
       "</div>"
      ],
      "text/plain": [
       "          Unnamed: 0        mb_used        user_id\n",
       "count  149396.000000  149396.000000  149396.000000\n",
       "mean    74697.500000     370.192426    1252.099842\n",
       "std     43127.054745     278.300951     144.050823\n",
       "min         0.000000       0.000000    1000.000000\n",
       "25%     37348.750000     138.187500    1130.000000\n",
       "50%     74697.500000     348.015000    1251.000000\n",
       "75%    112046.250000     559.552500    1380.000000\n",
       "max    149395.000000    1724.830000    1499.000000"
      ]
     },
     "execution_count": 14,
     "metadata": {},
     "output_type": "execute_result"
    }
   ],
   "source": [
    "internet.describe()"
   ]
  },
  {
   "cell_type": "markdown",
   "metadata": {},
   "source": [
    "В таблице **internet**:\n",
    "- 149396 строк;\n",
    "- 4 столбца;\n",
    "- 3 типа данных: float64, int64, object.\n",
    "    \n",
    "Согласно документации к данным, таблица информация об интернет-сессиях:\n",
    "- **_id_** — уникальный номер сессии\n",
    "- **_mb_used_** — объем потраченного за сессию интернет-трафика (в мегабайтах)\n",
    "- **_session_date_** — дата интернет-сессии\n",
    "- **_user_id_** — идентификатор пользователя\n",
    "    \n",
    "В названии колонок несоответствия не обнаружены, пропуски отсутствуют.\n",
    "\n",
    "По типу данных, в столбце **_session_date_** изменить тип данных на datetime."
   ]
  },
  {
   "cell_type": "markdown",
   "metadata": {},
   "source": [
    "### Информация о сообщениях"
   ]
  },
  {
   "cell_type": "code",
   "execution_count": 15,
   "metadata": {},
   "outputs": [
    {
     "data": {
      "text/html": [
       "<div>\n",
       "<style scoped>\n",
       "    .dataframe tbody tr th:only-of-type {\n",
       "        vertical-align: middle;\n",
       "    }\n",
       "\n",
       "    .dataframe tbody tr th {\n",
       "        vertical-align: top;\n",
       "    }\n",
       "\n",
       "    .dataframe thead th {\n",
       "        text-align: right;\n",
       "    }\n",
       "</style>\n",
       "<table border=\"1\" class=\"dataframe\">\n",
       "  <thead>\n",
       "    <tr style=\"text-align: right;\">\n",
       "      <th></th>\n",
       "      <th>id</th>\n",
       "      <th>message_date</th>\n",
       "      <th>user_id</th>\n",
       "    </tr>\n",
       "  </thead>\n",
       "  <tbody>\n",
       "    <tr>\n",
       "      <th>0</th>\n",
       "      <td>1000_0</td>\n",
       "      <td>2018-06-27</td>\n",
       "      <td>1000</td>\n",
       "    </tr>\n",
       "    <tr>\n",
       "      <th>1</th>\n",
       "      <td>1000_1</td>\n",
       "      <td>2018-10-08</td>\n",
       "      <td>1000</td>\n",
       "    </tr>\n",
       "    <tr>\n",
       "      <th>2</th>\n",
       "      <td>1000_2</td>\n",
       "      <td>2018-08-04</td>\n",
       "      <td>1000</td>\n",
       "    </tr>\n",
       "    <tr>\n",
       "      <th>3</th>\n",
       "      <td>1000_3</td>\n",
       "      <td>2018-06-16</td>\n",
       "      <td>1000</td>\n",
       "    </tr>\n",
       "    <tr>\n",
       "      <th>4</th>\n",
       "      <td>1000_4</td>\n",
       "      <td>2018-12-05</td>\n",
       "      <td>1000</td>\n",
       "    </tr>\n",
       "    <tr>\n",
       "      <th>5</th>\n",
       "      <td>1000_5</td>\n",
       "      <td>2018-06-20</td>\n",
       "      <td>1000</td>\n",
       "    </tr>\n",
       "    <tr>\n",
       "      <th>6</th>\n",
       "      <td>1000_6</td>\n",
       "      <td>2018-11-19</td>\n",
       "      <td>1000</td>\n",
       "    </tr>\n",
       "    <tr>\n",
       "      <th>7</th>\n",
       "      <td>1000_7</td>\n",
       "      <td>2018-10-29</td>\n",
       "      <td>1000</td>\n",
       "    </tr>\n",
       "    <tr>\n",
       "      <th>8</th>\n",
       "      <td>1000_8</td>\n",
       "      <td>2018-06-25</td>\n",
       "      <td>1000</td>\n",
       "    </tr>\n",
       "    <tr>\n",
       "      <th>9</th>\n",
       "      <td>1000_9</td>\n",
       "      <td>2018-12-18</td>\n",
       "      <td>1000</td>\n",
       "    </tr>\n",
       "  </tbody>\n",
       "</table>\n",
       "</div>"
      ],
      "text/plain": [
       "       id message_date  user_id\n",
       "0  1000_0   2018-06-27     1000\n",
       "1  1000_1   2018-10-08     1000\n",
       "2  1000_2   2018-08-04     1000\n",
       "3  1000_3   2018-06-16     1000\n",
       "4  1000_4   2018-12-05     1000\n",
       "5  1000_5   2018-06-20     1000\n",
       "6  1000_6   2018-11-19     1000\n",
       "7  1000_7   2018-10-29     1000\n",
       "8  1000_8   2018-06-25     1000\n",
       "9  1000_9   2018-12-18     1000"
      ]
     },
     "execution_count": 15,
     "metadata": {},
     "output_type": "execute_result"
    }
   ],
   "source": [
    "messages.head(10)"
   ]
  },
  {
   "cell_type": "code",
   "execution_count": 16,
   "metadata": {},
   "outputs": [
    {
     "name": "stdout",
     "output_type": "stream",
     "text": [
      "<class 'pandas.core.frame.DataFrame'>\n",
      "RangeIndex: 123036 entries, 0 to 123035\n",
      "Data columns (total 3 columns):\n",
      " #   Column        Non-Null Count   Dtype \n",
      "---  ------        --------------   ----- \n",
      " 0   id            123036 non-null  object\n",
      " 1   message_date  123036 non-null  object\n",
      " 2   user_id       123036 non-null  int64 \n",
      "dtypes: int64(1), object(2)\n",
      "memory usage: 2.8+ MB\n"
     ]
    }
   ],
   "source": [
    "messages.info()"
   ]
  },
  {
   "cell_type": "code",
   "execution_count": 17,
   "metadata": {},
   "outputs": [
    {
     "data": {
      "text/plain": [
       "(123036, 3)"
      ]
     },
     "execution_count": 17,
     "metadata": {},
     "output_type": "execute_result"
    }
   ],
   "source": [
    "messages.shape"
   ]
  },
  {
   "cell_type": "markdown",
   "metadata": {},
   "source": [
    "В таблице **messages**:\n",
    "- 123036 строк;\n",
    "- 3 столбца;\n",
    "- 2 типа данных: int64, object.\n",
    "    \n",
    "Согласно документации к данным, таблица информация о сообщениях:\n",
    "- **_id_** — уникальный номер сообщения\n",
    "- **_message_date_** — дата сообщения\n",
    "- **_user_id_** — идентификатор пользователя, отправившего сообщение\n",
    "    \n",
    "В названии колонок несоответствия не обнаружены, пропуски отсутствуют.\n",
    " \n",
    "По типу данных, в столбце **_message_date_** изменить тип данных на datetime."
   ]
  },
  {
   "cell_type": "markdown",
   "metadata": {},
   "source": [
    "### Информация о тарифах"
   ]
  },
  {
   "cell_type": "code",
   "execution_count": 18,
   "metadata": {},
   "outputs": [
    {
     "data": {
      "text/html": [
       "<div>\n",
       "<style scoped>\n",
       "    .dataframe tbody tr th:only-of-type {\n",
       "        vertical-align: middle;\n",
       "    }\n",
       "\n",
       "    .dataframe tbody tr th {\n",
       "        vertical-align: top;\n",
       "    }\n",
       "\n",
       "    .dataframe thead th {\n",
       "        text-align: right;\n",
       "    }\n",
       "</style>\n",
       "<table border=\"1\" class=\"dataframe\">\n",
       "  <thead>\n",
       "    <tr style=\"text-align: right;\">\n",
       "      <th></th>\n",
       "      <th>messages_included</th>\n",
       "      <th>mb_per_month_included</th>\n",
       "      <th>minutes_included</th>\n",
       "      <th>rub_monthly_fee</th>\n",
       "      <th>rub_per_gb</th>\n",
       "      <th>rub_per_message</th>\n",
       "      <th>rub_per_minute</th>\n",
       "      <th>tariff_name</th>\n",
       "    </tr>\n",
       "  </thead>\n",
       "  <tbody>\n",
       "    <tr>\n",
       "      <th>0</th>\n",
       "      <td>50</td>\n",
       "      <td>15360</td>\n",
       "      <td>500</td>\n",
       "      <td>550</td>\n",
       "      <td>200</td>\n",
       "      <td>3</td>\n",
       "      <td>3</td>\n",
       "      <td>smart</td>\n",
       "    </tr>\n",
       "    <tr>\n",
       "      <th>1</th>\n",
       "      <td>1000</td>\n",
       "      <td>30720</td>\n",
       "      <td>3000</td>\n",
       "      <td>1950</td>\n",
       "      <td>150</td>\n",
       "      <td>1</td>\n",
       "      <td>1</td>\n",
       "      <td>ultra</td>\n",
       "    </tr>\n",
       "  </tbody>\n",
       "</table>\n",
       "</div>"
      ],
      "text/plain": [
       "   messages_included  mb_per_month_included  minutes_included  \\\n",
       "0                 50                  15360               500   \n",
       "1               1000                  30720              3000   \n",
       "\n",
       "   rub_monthly_fee  rub_per_gb  rub_per_message  rub_per_minute tariff_name  \n",
       "0              550         200                3               3       smart  \n",
       "1             1950         150                1               1       ultra  "
      ]
     },
     "execution_count": 18,
     "metadata": {},
     "output_type": "execute_result"
    }
   ],
   "source": [
    "tariffs.head()"
   ]
  },
  {
   "cell_type": "code",
   "execution_count": 19,
   "metadata": {},
   "outputs": [
    {
     "name": "stdout",
     "output_type": "stream",
     "text": [
      "<class 'pandas.core.frame.DataFrame'>\n",
      "RangeIndex: 2 entries, 0 to 1\n",
      "Data columns (total 8 columns):\n",
      " #   Column                 Non-Null Count  Dtype \n",
      "---  ------                 --------------  ----- \n",
      " 0   messages_included      2 non-null      int64 \n",
      " 1   mb_per_month_included  2 non-null      int64 \n",
      " 2   minutes_included       2 non-null      int64 \n",
      " 3   rub_monthly_fee        2 non-null      int64 \n",
      " 4   rub_per_gb             2 non-null      int64 \n",
      " 5   rub_per_message        2 non-null      int64 \n",
      " 6   rub_per_minute         2 non-null      int64 \n",
      " 7   tariff_name            2 non-null      object\n",
      "dtypes: int64(7), object(1)\n",
      "memory usage: 256.0+ bytes\n"
     ]
    }
   ],
   "source": [
    "tariffs.info()"
   ]
  },
  {
   "cell_type": "code",
   "execution_count": 20,
   "metadata": {},
   "outputs": [
    {
     "data": {
      "text/plain": [
       "(2, 8)"
      ]
     },
     "execution_count": 20,
     "metadata": {},
     "output_type": "execute_result"
    }
   ],
   "source": [
    "tariffs.shape"
   ]
  },
  {
   "cell_type": "markdown",
   "metadata": {},
   "source": [
    "В таблице **tariffs**:\n",
    "- 2 строки;\n",
    "- 8 столбцов;\n",
    "- 2 типа данных: int64, object.\n",
    "    \n",
    "Согласно документации к данным, таблица информация о тарифах:\n",
    "- **_tariff_name_** — название тарифа\n",
    "- **_rub_monthly_fee_** — ежемесячная абонентская плата в рублях\n",
    "- **_minutes_included_** — количество минут разговора в месяц, включенных в абонентскую плату\n",
    "- **_messages_included_** — количество сообщений в месяц, включенных в абонентскую плату\n",
    "- **_mb_per_month_included_** — объём интернет-трафика, включенного в абонентскую плату (в мегабайтах)\n",
    "- **_rub_per_minute_** — стоимость минуты разговора сверх тарифного пакета (например, если в тарифе 100 минут разговора в месяц, то со 101 минуты будет взиматься плата)\n",
    "- **_rub_per_message_** — стоимость отправки сообщения сверх тарифного пакета\n",
    "- **_rub_per_gb_** — стоимость дополнительного гигабайта интернет-трафика сверх тарифного пакета (1 гигабайт = 1024 мегабайта)\n",
    "    \n",
    "В названии колонок и типов данных несоответствия не обнаружены, пропуски отсутствуют."
   ]
  },
  {
   "cell_type": "markdown",
   "metadata": {},
   "source": [
    "### Информация о пользователях"
   ]
  },
  {
   "cell_type": "code",
   "execution_count": 21,
   "metadata": {},
   "outputs": [
    {
     "data": {
      "text/html": [
       "<div>\n",
       "<style scoped>\n",
       "    .dataframe tbody tr th:only-of-type {\n",
       "        vertical-align: middle;\n",
       "    }\n",
       "\n",
       "    .dataframe tbody tr th {\n",
       "        vertical-align: top;\n",
       "    }\n",
       "\n",
       "    .dataframe thead th {\n",
       "        text-align: right;\n",
       "    }\n",
       "</style>\n",
       "<table border=\"1\" class=\"dataframe\">\n",
       "  <thead>\n",
       "    <tr style=\"text-align: right;\">\n",
       "      <th></th>\n",
       "      <th>user_id</th>\n",
       "      <th>age</th>\n",
       "      <th>churn_date</th>\n",
       "      <th>city</th>\n",
       "      <th>first_name</th>\n",
       "      <th>last_name</th>\n",
       "      <th>reg_date</th>\n",
       "      <th>tariff</th>\n",
       "    </tr>\n",
       "  </thead>\n",
       "  <tbody>\n",
       "    <tr>\n",
       "      <th>0</th>\n",
       "      <td>1000</td>\n",
       "      <td>52</td>\n",
       "      <td>NaN</td>\n",
       "      <td>Краснодар</td>\n",
       "      <td>Рафаил</td>\n",
       "      <td>Верещагин</td>\n",
       "      <td>2018-05-25</td>\n",
       "      <td>ultra</td>\n",
       "    </tr>\n",
       "    <tr>\n",
       "      <th>1</th>\n",
       "      <td>1001</td>\n",
       "      <td>41</td>\n",
       "      <td>NaN</td>\n",
       "      <td>Москва</td>\n",
       "      <td>Иван</td>\n",
       "      <td>Ежов</td>\n",
       "      <td>2018-11-01</td>\n",
       "      <td>smart</td>\n",
       "    </tr>\n",
       "    <tr>\n",
       "      <th>2</th>\n",
       "      <td>1002</td>\n",
       "      <td>59</td>\n",
       "      <td>NaN</td>\n",
       "      <td>Стерлитамак</td>\n",
       "      <td>Евгений</td>\n",
       "      <td>Абрамович</td>\n",
       "      <td>2018-06-17</td>\n",
       "      <td>smart</td>\n",
       "    </tr>\n",
       "    <tr>\n",
       "      <th>3</th>\n",
       "      <td>1003</td>\n",
       "      <td>23</td>\n",
       "      <td>NaN</td>\n",
       "      <td>Москва</td>\n",
       "      <td>Белла</td>\n",
       "      <td>Белякова</td>\n",
       "      <td>2018-08-17</td>\n",
       "      <td>ultra</td>\n",
       "    </tr>\n",
       "    <tr>\n",
       "      <th>4</th>\n",
       "      <td>1004</td>\n",
       "      <td>68</td>\n",
       "      <td>NaN</td>\n",
       "      <td>Новокузнецк</td>\n",
       "      <td>Татьяна</td>\n",
       "      <td>Авдеенко</td>\n",
       "      <td>2018-05-14</td>\n",
       "      <td>ultra</td>\n",
       "    </tr>\n",
       "    <tr>\n",
       "      <th>5</th>\n",
       "      <td>1005</td>\n",
       "      <td>67</td>\n",
       "      <td>NaN</td>\n",
       "      <td>Набережные Челны</td>\n",
       "      <td>Афанасий</td>\n",
       "      <td>Горлов</td>\n",
       "      <td>2018-01-25</td>\n",
       "      <td>smart</td>\n",
       "    </tr>\n",
       "    <tr>\n",
       "      <th>6</th>\n",
       "      <td>1006</td>\n",
       "      <td>21</td>\n",
       "      <td>NaN</td>\n",
       "      <td>Ульяновск</td>\n",
       "      <td>Леонид</td>\n",
       "      <td>Ермолаев</td>\n",
       "      <td>2018-02-26</td>\n",
       "      <td>smart</td>\n",
       "    </tr>\n",
       "    <tr>\n",
       "      <th>7</th>\n",
       "      <td>1007</td>\n",
       "      <td>65</td>\n",
       "      <td>NaN</td>\n",
       "      <td>Москва</td>\n",
       "      <td>Юна</td>\n",
       "      <td>Березина</td>\n",
       "      <td>2018-04-19</td>\n",
       "      <td>smart</td>\n",
       "    </tr>\n",
       "    <tr>\n",
       "      <th>8</th>\n",
       "      <td>1008</td>\n",
       "      <td>63</td>\n",
       "      <td>NaN</td>\n",
       "      <td>Челябинск</td>\n",
       "      <td>Рустэм</td>\n",
       "      <td>Пономарёв</td>\n",
       "      <td>2018-12-19</td>\n",
       "      <td>smart</td>\n",
       "    </tr>\n",
       "    <tr>\n",
       "      <th>9</th>\n",
       "      <td>1009</td>\n",
       "      <td>24</td>\n",
       "      <td>NaN</td>\n",
       "      <td>Пермь</td>\n",
       "      <td>Василиса</td>\n",
       "      <td>Блинова</td>\n",
       "      <td>2018-03-22</td>\n",
       "      <td>smart</td>\n",
       "    </tr>\n",
       "  </tbody>\n",
       "</table>\n",
       "</div>"
      ],
      "text/plain": [
       "   user_id  age churn_date              city first_name  last_name  \\\n",
       "0     1000   52        NaN         Краснодар     Рафаил  Верещагин   \n",
       "1     1001   41        NaN            Москва       Иван       Ежов   \n",
       "2     1002   59        NaN       Стерлитамак    Евгений  Абрамович   \n",
       "3     1003   23        NaN            Москва      Белла   Белякова   \n",
       "4     1004   68        NaN       Новокузнецк    Татьяна   Авдеенко   \n",
       "5     1005   67        NaN  Набережные Челны   Афанасий     Горлов   \n",
       "6     1006   21        NaN         Ульяновск     Леонид   Ермолаев   \n",
       "7     1007   65        NaN            Москва        Юна   Березина   \n",
       "8     1008   63        NaN         Челябинск     Рустэм  Пономарёв   \n",
       "9     1009   24        NaN             Пермь   Василиса    Блинова   \n",
       "\n",
       "     reg_date tariff  \n",
       "0  2018-05-25  ultra  \n",
       "1  2018-11-01  smart  \n",
       "2  2018-06-17  smart  \n",
       "3  2018-08-17  ultra  \n",
       "4  2018-05-14  ultra  \n",
       "5  2018-01-25  smart  \n",
       "6  2018-02-26  smart  \n",
       "7  2018-04-19  smart  \n",
       "8  2018-12-19  smart  \n",
       "9  2018-03-22  smart  "
      ]
     },
     "execution_count": 21,
     "metadata": {},
     "output_type": "execute_result"
    }
   ],
   "source": [
    "users.head(10)"
   ]
  },
  {
   "cell_type": "code",
   "execution_count": 22,
   "metadata": {},
   "outputs": [
    {
     "name": "stdout",
     "output_type": "stream",
     "text": [
      "<class 'pandas.core.frame.DataFrame'>\n",
      "RangeIndex: 500 entries, 0 to 499\n",
      "Data columns (total 8 columns):\n",
      " #   Column      Non-Null Count  Dtype \n",
      "---  ------      --------------  ----- \n",
      " 0   user_id     500 non-null    int64 \n",
      " 1   age         500 non-null    int64 \n",
      " 2   churn_date  38 non-null     object\n",
      " 3   city        500 non-null    object\n",
      " 4   first_name  500 non-null    object\n",
      " 5   last_name   500 non-null    object\n",
      " 6   reg_date    500 non-null    object\n",
      " 7   tariff      500 non-null    object\n",
      "dtypes: int64(2), object(6)\n",
      "memory usage: 31.4+ KB\n"
     ]
    }
   ],
   "source": [
    "users.info()"
   ]
  },
  {
   "cell_type": "code",
   "execution_count": 23,
   "metadata": {},
   "outputs": [
    {
     "data": {
      "text/plain": [
       "(500, 8)"
      ]
     },
     "execution_count": 23,
     "metadata": {},
     "output_type": "execute_result"
    }
   ],
   "source": [
    "users.shape"
   ]
  },
  {
   "cell_type": "code",
   "execution_count": 24,
   "metadata": {},
   "outputs": [
    {
     "data": {
      "text/html": [
       "<div>\n",
       "<style scoped>\n",
       "    .dataframe tbody tr th:only-of-type {\n",
       "        vertical-align: middle;\n",
       "    }\n",
       "\n",
       "    .dataframe tbody tr th {\n",
       "        vertical-align: top;\n",
       "    }\n",
       "\n",
       "    .dataframe thead th {\n",
       "        text-align: right;\n",
       "    }\n",
       "</style>\n",
       "<table border=\"1\" class=\"dataframe\">\n",
       "  <thead>\n",
       "    <tr style=\"text-align: right;\">\n",
       "      <th></th>\n",
       "      <th>user_id</th>\n",
       "      <th>age</th>\n",
       "    </tr>\n",
       "  </thead>\n",
       "  <tbody>\n",
       "    <tr>\n",
       "      <th>count</th>\n",
       "      <td>500.000000</td>\n",
       "      <td>500.00000</td>\n",
       "    </tr>\n",
       "    <tr>\n",
       "      <th>mean</th>\n",
       "      <td>1249.500000</td>\n",
       "      <td>46.58800</td>\n",
       "    </tr>\n",
       "    <tr>\n",
       "      <th>std</th>\n",
       "      <td>144.481833</td>\n",
       "      <td>16.66763</td>\n",
       "    </tr>\n",
       "    <tr>\n",
       "      <th>min</th>\n",
       "      <td>1000.000000</td>\n",
       "      <td>18.00000</td>\n",
       "    </tr>\n",
       "    <tr>\n",
       "      <th>25%</th>\n",
       "      <td>1124.750000</td>\n",
       "      <td>32.00000</td>\n",
       "    </tr>\n",
       "    <tr>\n",
       "      <th>50%</th>\n",
       "      <td>1249.500000</td>\n",
       "      <td>46.00000</td>\n",
       "    </tr>\n",
       "    <tr>\n",
       "      <th>75%</th>\n",
       "      <td>1374.250000</td>\n",
       "      <td>62.00000</td>\n",
       "    </tr>\n",
       "    <tr>\n",
       "      <th>max</th>\n",
       "      <td>1499.000000</td>\n",
       "      <td>75.00000</td>\n",
       "    </tr>\n",
       "  </tbody>\n",
       "</table>\n",
       "</div>"
      ],
      "text/plain": [
       "           user_id        age\n",
       "count   500.000000  500.00000\n",
       "mean   1249.500000   46.58800\n",
       "std     144.481833   16.66763\n",
       "min    1000.000000   18.00000\n",
       "25%    1124.750000   32.00000\n",
       "50%    1249.500000   46.00000\n",
       "75%    1374.250000   62.00000\n",
       "max    1499.000000   75.00000"
      ]
     },
     "execution_count": 24,
     "metadata": {},
     "output_type": "execute_result"
    }
   ],
   "source": [
    "users.describe()"
   ]
  },
  {
   "cell_type": "markdown",
   "metadata": {},
   "source": [
    "В таблице **users**:\n",
    "- 2 строки;\n",
    "- 8 столбцов;\n",
    "- 2 типа данных: int64, object.\n",
    "    \n",
    "Согласно документации к данным, таблица информация о пользователях:\n",
    "- **_user_id_** — уникальный идентификатор пользователя\n",
    "- **_first_name_** — имя пользователя\n",
    "- **_last_name_** — фамилия пользователя\n",
    "- **_age_** — возраст пользователя (годы)\n",
    "- **_reg_date_** — дата подключения тарифа (день, месяц, год)\n",
    "- **_churn_date_** — дата прекращения пользования тарифом (если значение пропущено, то тариф еще действовал на момент выгрузки данных)\n",
    "- **_city_** — город проживания пользователя\n",
    "- **_tarif_** — название тарифного плана\n",
    "    \n",
    "В названии колонок и типов данных несоответствия не обнаружены.\n",
    "    \n",
    "Имеются пропуски в столбце **_churn_date_**. В данном столбце содержится информация о времени прекращения пользования тарифом. Получается, что из 500 пользователей лишь 38 прекратили пользоваться тарифами. Заполнять пропуски по данному столбцу не имеет смысла.\n",
    " \n",
    "По типу данных, в столбце **_churn_date_** и  **_reg_date_** изменить тип данных на datetime."
   ]
  },
  {
   "cell_type": "markdown",
   "metadata": {},
   "source": [
    "### Вывод"
   ]
  },
  {
   "cell_type": "markdown",
   "metadata": {},
   "source": [
    "- после первичного изучения данных можно сказать, что данные хорошо подготовлены;\n",
    "- наличие нулевых значений в сете calls, столбец duration оправдано, поскольку так в таблице обозначаются пропущенные звонки; \n",
    "- наличие пустых значений в сете users, столбец churn_date оправдано, поскольку только 7.6% пользователей прекратили пользоваться тарифами;\n",
    "- в сетах calls, internet, messages и users необходимо привести столбцы с датами в соответствующий тип данных datetime.\n",
    " \n",
    "Для достижения цели, необходимо устранить проблемы в данных:\n",
    " \n",
    "- заменить типы данных;\n",
    "- определить и удалить дубликаты;\n",
    "- категоризировать данные;\n",
    "- провести исследовательский анализ данных."
   ]
  },
  {
   "cell_type": "markdown",
   "metadata": {},
   "source": [
    "## Предобработка данных"
   ]
  },
  {
   "cell_type": "markdown",
   "metadata": {},
   "source": [
    "### Изменение типа данных"
   ]
  },
  {
   "cell_type": "markdown",
   "metadata": {},
   "source": [
    "Приведем столбцы с датой в правильный формат datetime, в сетах: **_calls_**, **_internet_**, **_messages_** и **_users_**. Для этого напишем цикл."
   ]
  },
  {
   "cell_type": "code",
   "execution_count": 25,
   "metadata": {},
   "outputs": [],
   "source": [
    "columns = ['call_date', 'session_date', 'message_date', 'churn_date', 'reg_date']\n",
    "sets = [calls, internet, messages, users]\n",
    "for column in columns:\n",
    "    for item in sets:\n",
    "        if column in item:         \n",
    "            item[column] = pd.to_datetime(item[column], format='%Y-%m-%d')"
   ]
  },
  {
   "cell_type": "markdown",
   "metadata": {},
   "source": [
    "Проверим в каких столбцах установился нужный нам тип данных, создадим цикл."
   ]
  },
  {
   "cell_type": "code",
   "execution_count": 26,
   "metadata": {},
   "outputs": [
    {
     "name": "stdout",
     "output_type": "stream",
     "text": [
      "call_date\n",
      "session_date\n",
      "message_date\n",
      "churn_date, reg_date\n"
     ]
    }
   ],
   "source": [
    "for item in sets:\n",
    "    print(*item.select_dtypes('datetime64[ns]').columns, sep=', ')"
   ]
  },
  {
   "cell_type": "markdown",
   "metadata": {},
   "source": [
    "Типы данных изменились у необходимых столбцов."
   ]
  },
  {
   "cell_type": "markdown",
   "metadata": {},
   "source": [
    "### Проверка на дубликаты"
   ]
  },
  {
   "cell_type": "markdown",
   "metadata": {},
   "source": [
    "Создадим цикл и проверим по всем сетам на явные дубликаты."
   ]
  },
  {
   "cell_type": "code",
   "execution_count": 27,
   "metadata": {},
   "outputs": [
    {
     "name": "stdout",
     "output_type": "stream",
     "text": [
      "0\n",
      "0\n",
      "0\n",
      "0\n",
      "0\n"
     ]
    }
   ],
   "source": [
    "check_for_duplicates = [calls, internet, messages, tariffs, users]\n",
    "for item in check_for_duplicates:\n",
    "    print(item.duplicated().sum())"
   ]
  },
  {
   "cell_type": "markdown",
   "metadata": {},
   "source": [
    "Явные дубликаты отсутствуют."
   ]
  },
  {
   "cell_type": "markdown",
   "metadata": {},
   "source": [
    "Проверим на уникальность следующие столбцы **_city_**, **_tariff_** в сете **_users_**. Для удобства обернем значения в списки, а для столбца **_city_** применим сортировку по возрастанию."
   ]
  },
  {
   "cell_type": "code",
   "execution_count": 28,
   "metadata": {},
   "outputs": [
    {
     "data": {
      "text/plain": [
       "['Архангельск',\n",
       " 'Астрахань',\n",
       " 'Балашиха',\n",
       " 'Барнаул',\n",
       " 'Белгород',\n",
       " 'Брянск',\n",
       " 'Владивосток',\n",
       " 'Владикавказ',\n",
       " 'Владимир',\n",
       " 'Волгоград',\n",
       " 'Волжский',\n",
       " 'Вологда',\n",
       " 'Воронеж',\n",
       " 'Грозный',\n",
       " 'Екатеринбург',\n",
       " 'Иваново',\n",
       " 'Ижевск',\n",
       " 'Иркутск',\n",
       " 'Казань',\n",
       " 'Калининград',\n",
       " 'Калуга',\n",
       " 'Кемерово',\n",
       " 'Киров',\n",
       " 'Кострома',\n",
       " 'Краснодар',\n",
       " 'Красноярск',\n",
       " 'Курган',\n",
       " 'Курск',\n",
       " 'Липецк',\n",
       " 'Магнитогорск',\n",
       " 'Махачкала',\n",
       " 'Москва',\n",
       " 'Мурманск',\n",
       " 'Набережные Челны',\n",
       " 'Нижневартовск',\n",
       " 'Нижний Новгород',\n",
       " 'Нижний Тагил',\n",
       " 'Новокузнецк',\n",
       " 'Новороссийск',\n",
       " 'Новосибирск',\n",
       " 'Омск',\n",
       " 'Оренбург',\n",
       " 'Орёл',\n",
       " 'Пенза',\n",
       " 'Пермь',\n",
       " 'Петрозаводск',\n",
       " 'Подольск',\n",
       " 'Ростов-на-Дону',\n",
       " 'Рязань',\n",
       " 'Самара',\n",
       " 'Санкт-Петербург',\n",
       " 'Саранск',\n",
       " 'Саратов',\n",
       " 'Севастополь',\n",
       " 'Смоленск',\n",
       " 'Сочи',\n",
       " 'Ставрополь',\n",
       " 'Стерлитамак',\n",
       " 'Сургут',\n",
       " 'Тамбов',\n",
       " 'Тверь',\n",
       " 'Тольятти',\n",
       " 'Томск',\n",
       " 'Тула',\n",
       " 'Тюмень',\n",
       " 'Улан-Удэ',\n",
       " 'Ульяновск',\n",
       " 'Уфа',\n",
       " 'Хабаровск',\n",
       " 'Химки',\n",
       " 'Чебоксары',\n",
       " 'Челябинск',\n",
       " 'Череповец',\n",
       " 'Чита',\n",
       " 'Якутск',\n",
       " 'Ярославль']"
      ]
     },
     "execution_count": 28,
     "metadata": {},
     "output_type": "execute_result"
    }
   ],
   "source": [
    "sorted(list(users.city.unique()))"
   ]
  },
  {
   "cell_type": "code",
   "execution_count": 29,
   "metadata": {},
   "outputs": [
    {
     "data": {
      "text/plain": [
       "['ultra', 'smart']"
      ]
     },
     "execution_count": 29,
     "metadata": {},
     "output_type": "execute_result"
    }
   ],
   "source": [
    "list(users.tariff.unique())"
   ]
  },
  {
   "cell_type": "markdown",
   "metadata": {},
   "source": [
    "Дублей и аномальных названий не выявлено."
   ]
  },
  {
   "cell_type": "markdown",
   "metadata": {},
   "source": [
    "### Округление звонков"
   ]
  },
  {
   "cell_type": "markdown",
   "metadata": {},
   "source": [
    "Округлим звонки в столбце **_duration_**, сет **_calls_** до целого числа в большую сторону, согласно правилам компании «Мегалайн», для округления примени метод ceil(). Так как продолжительность звонков будет целочисленной, изменим тип на int."
   ]
  },
  {
   "cell_type": "code",
   "execution_count": 30,
   "metadata": {},
   "outputs": [],
   "source": [
    "calls['duration'] = calls['duration'].apply(np.ceil).astype('int')"
   ]
  },
  {
   "cell_type": "code",
   "execution_count": 31,
   "metadata": {},
   "outputs": [
    {
     "data": {
      "text/html": [
       "<div>\n",
       "<style scoped>\n",
       "    .dataframe tbody tr th:only-of-type {\n",
       "        vertical-align: middle;\n",
       "    }\n",
       "\n",
       "    .dataframe tbody tr th {\n",
       "        vertical-align: top;\n",
       "    }\n",
       "\n",
       "    .dataframe thead th {\n",
       "        text-align: right;\n",
       "    }\n",
       "</style>\n",
       "<table border=\"1\" class=\"dataframe\">\n",
       "  <thead>\n",
       "    <tr style=\"text-align: right;\">\n",
       "      <th></th>\n",
       "      <th>id</th>\n",
       "      <th>call_date</th>\n",
       "      <th>duration</th>\n",
       "      <th>user_id</th>\n",
       "    </tr>\n",
       "  </thead>\n",
       "  <tbody>\n",
       "    <tr>\n",
       "      <th>0</th>\n",
       "      <td>1000_0</td>\n",
       "      <td>2018-07-25</td>\n",
       "      <td>0</td>\n",
       "      <td>1000</td>\n",
       "    </tr>\n",
       "    <tr>\n",
       "      <th>1</th>\n",
       "      <td>1000_1</td>\n",
       "      <td>2018-08-17</td>\n",
       "      <td>0</td>\n",
       "      <td>1000</td>\n",
       "    </tr>\n",
       "    <tr>\n",
       "      <th>2</th>\n",
       "      <td>1000_2</td>\n",
       "      <td>2018-06-11</td>\n",
       "      <td>3</td>\n",
       "      <td>1000</td>\n",
       "    </tr>\n",
       "    <tr>\n",
       "      <th>3</th>\n",
       "      <td>1000_3</td>\n",
       "      <td>2018-09-21</td>\n",
       "      <td>14</td>\n",
       "      <td>1000</td>\n",
       "    </tr>\n",
       "    <tr>\n",
       "      <th>4</th>\n",
       "      <td>1000_4</td>\n",
       "      <td>2018-12-15</td>\n",
       "      <td>6</td>\n",
       "      <td>1000</td>\n",
       "    </tr>\n",
       "    <tr>\n",
       "      <th>5</th>\n",
       "      <td>1000_5</td>\n",
       "      <td>2018-11-02</td>\n",
       "      <td>0</td>\n",
       "      <td>1000</td>\n",
       "    </tr>\n",
       "    <tr>\n",
       "      <th>6</th>\n",
       "      <td>1000_6</td>\n",
       "      <td>2018-10-18</td>\n",
       "      <td>0</td>\n",
       "      <td>1000</td>\n",
       "    </tr>\n",
       "    <tr>\n",
       "      <th>7</th>\n",
       "      <td>1000_7</td>\n",
       "      <td>2018-08-22</td>\n",
       "      <td>19</td>\n",
       "      <td>1000</td>\n",
       "    </tr>\n",
       "    <tr>\n",
       "      <th>8</th>\n",
       "      <td>1000_8</td>\n",
       "      <td>2018-09-15</td>\n",
       "      <td>19</td>\n",
       "      <td>1000</td>\n",
       "    </tr>\n",
       "    <tr>\n",
       "      <th>9</th>\n",
       "      <td>1000_9</td>\n",
       "      <td>2018-08-15</td>\n",
       "      <td>0</td>\n",
       "      <td>1000</td>\n",
       "    </tr>\n",
       "  </tbody>\n",
       "</table>\n",
       "</div>"
      ],
      "text/plain": [
       "       id  call_date  duration  user_id\n",
       "0  1000_0 2018-07-25         0     1000\n",
       "1  1000_1 2018-08-17         0     1000\n",
       "2  1000_2 2018-06-11         3     1000\n",
       "3  1000_3 2018-09-21        14     1000\n",
       "4  1000_4 2018-12-15         6     1000\n",
       "5  1000_5 2018-11-02         0     1000\n",
       "6  1000_6 2018-10-18         0     1000\n",
       "7  1000_7 2018-08-22        19     1000\n",
       "8  1000_8 2018-09-15        19     1000\n",
       "9  1000_9 2018-08-15         0     1000"
      ]
     },
     "execution_count": 31,
     "metadata": {},
     "output_type": "execute_result"
    }
   ],
   "source": [
    "calls.head(10)"
   ]
  },
  {
   "cell_type": "markdown",
   "metadata": {},
   "source": [
    "### Создание столбца month для сетов: calls, messages, internet"
   ]
  },
  {
   "cell_type": "markdown",
   "metadata": {},
   "source": [
    "Для создания столбца **_month_** используем метод DatetimeIndex()."
   ]
  },
  {
   "cell_type": "code",
   "execution_count": 32,
   "metadata": {},
   "outputs": [],
   "source": [
    "to_create_month = [calls, messages, internet]\n",
    "to_use_columns = ['call_date', 'message_date', 'session_date']\n",
    "for item in to_create_month:\n",
    "    for column in to_use_columns:\n",
    "        if column in item:\n",
    "            item['month'] = pd.DatetimeIndex(item[column]).month"
   ]
  },
  {
   "cell_type": "markdown",
   "metadata": {},
   "source": [
    "### Расчет звонков и израсходованных минут разговора по месяцам"
   ]
  },
  {
   "cell_type": "markdown",
   "metadata": {},
   "source": [
    "Для будущего слияния фреймов, сгруппируем данные и получим количество, продолжительность звонков за месяц для каждого пользователя. Результат запишем в переменную **_calls_for_merge_**."
   ]
  },
  {
   "cell_type": "code",
   "execution_count": 33,
   "metadata": {},
   "outputs": [],
   "source": [
    "calls_for_merge = calls.groupby(['user_id', 'month'])\\\n",
    "                  .agg({'id':'count', 'duration':'sum'})\\\n",
    "                  .reset_index()\\\n",
    "                  .rename(columns={'id':'calls_by_month','duration':'duration_calls_by_months'})"
   ]
  },
  {
   "cell_type": "code",
   "execution_count": 34,
   "metadata": {},
   "outputs": [
    {
     "data": {
      "text/html": [
       "<div>\n",
       "<style scoped>\n",
       "    .dataframe tbody tr th:only-of-type {\n",
       "        vertical-align: middle;\n",
       "    }\n",
       "\n",
       "    .dataframe tbody tr th {\n",
       "        vertical-align: top;\n",
       "    }\n",
       "\n",
       "    .dataframe thead th {\n",
       "        text-align: right;\n",
       "    }\n",
       "</style>\n",
       "<table border=\"1\" class=\"dataframe\">\n",
       "  <thead>\n",
       "    <tr style=\"text-align: right;\">\n",
       "      <th></th>\n",
       "      <th>user_id</th>\n",
       "      <th>month</th>\n",
       "      <th>calls_by_month</th>\n",
       "      <th>duration_calls_by_months</th>\n",
       "    </tr>\n",
       "  </thead>\n",
       "  <tbody>\n",
       "    <tr>\n",
       "      <th>0</th>\n",
       "      <td>1000</td>\n",
       "      <td>5</td>\n",
       "      <td>22</td>\n",
       "      <td>159</td>\n",
       "    </tr>\n",
       "    <tr>\n",
       "      <th>1</th>\n",
       "      <td>1000</td>\n",
       "      <td>6</td>\n",
       "      <td>43</td>\n",
       "      <td>172</td>\n",
       "    </tr>\n",
       "    <tr>\n",
       "      <th>2</th>\n",
       "      <td>1000</td>\n",
       "      <td>7</td>\n",
       "      <td>47</td>\n",
       "      <td>340</td>\n",
       "    </tr>\n",
       "    <tr>\n",
       "      <th>3</th>\n",
       "      <td>1000</td>\n",
       "      <td>8</td>\n",
       "      <td>52</td>\n",
       "      <td>408</td>\n",
       "    </tr>\n",
       "    <tr>\n",
       "      <th>4</th>\n",
       "      <td>1000</td>\n",
       "      <td>9</td>\n",
       "      <td>58</td>\n",
       "      <td>466</td>\n",
       "    </tr>\n",
       "  </tbody>\n",
       "</table>\n",
       "</div>"
      ],
      "text/plain": [
       "   user_id  month  calls_by_month  duration_calls_by_months\n",
       "0     1000      5              22                       159\n",
       "1     1000      6              43                       172\n",
       "2     1000      7              47                       340\n",
       "3     1000      8              52                       408\n",
       "4     1000      9              58                       466"
      ]
     },
     "execution_count": 34,
     "metadata": {},
     "output_type": "execute_result"
    }
   ],
   "source": [
    "calls_for_merge.head()"
   ]
  },
  {
   "cell_type": "markdown",
   "metadata": {},
   "source": [
    "### Расчет количества отправленных сообщений по месяцам"
   ]
  },
  {
   "cell_type": "markdown",
   "metadata": {},
   "source": [
    "Для будущего слияния фреймов, сгруппируем данные и получим количество отправленных сообщений за месяц для каждого пользователя. Результат запишем в переменную **_messages_for_merge_**."
   ]
  },
  {
   "cell_type": "code",
   "execution_count": 35,
   "metadata": {},
   "outputs": [],
   "source": [
    "messages_for_merge = messages.groupby(['user_id', 'month'])\\\n",
    "                  .agg({'id':'count'})\\\n",
    "                  .reset_index()\\\n",
    "                  .rename(columns={'id':'sms_by_month'})"
   ]
  },
  {
   "cell_type": "code",
   "execution_count": 36,
   "metadata": {},
   "outputs": [
    {
     "data": {
      "text/html": [
       "<div>\n",
       "<style scoped>\n",
       "    .dataframe tbody tr th:only-of-type {\n",
       "        vertical-align: middle;\n",
       "    }\n",
       "\n",
       "    .dataframe tbody tr th {\n",
       "        vertical-align: top;\n",
       "    }\n",
       "\n",
       "    .dataframe thead th {\n",
       "        text-align: right;\n",
       "    }\n",
       "</style>\n",
       "<table border=\"1\" class=\"dataframe\">\n",
       "  <thead>\n",
       "    <tr style=\"text-align: right;\">\n",
       "      <th></th>\n",
       "      <th>user_id</th>\n",
       "      <th>month</th>\n",
       "      <th>sms_by_month</th>\n",
       "    </tr>\n",
       "  </thead>\n",
       "  <tbody>\n",
       "    <tr>\n",
       "      <th>0</th>\n",
       "      <td>1000</td>\n",
       "      <td>5</td>\n",
       "      <td>22</td>\n",
       "    </tr>\n",
       "    <tr>\n",
       "      <th>1</th>\n",
       "      <td>1000</td>\n",
       "      <td>6</td>\n",
       "      <td>60</td>\n",
       "    </tr>\n",
       "    <tr>\n",
       "      <th>2</th>\n",
       "      <td>1000</td>\n",
       "      <td>7</td>\n",
       "      <td>75</td>\n",
       "    </tr>\n",
       "    <tr>\n",
       "      <th>3</th>\n",
       "      <td>1000</td>\n",
       "      <td>8</td>\n",
       "      <td>81</td>\n",
       "    </tr>\n",
       "    <tr>\n",
       "      <th>4</th>\n",
       "      <td>1000</td>\n",
       "      <td>9</td>\n",
       "      <td>57</td>\n",
       "    </tr>\n",
       "  </tbody>\n",
       "</table>\n",
       "</div>"
      ],
      "text/plain": [
       "   user_id  month  sms_by_month\n",
       "0     1000      5            22\n",
       "1     1000      6            60\n",
       "2     1000      7            75\n",
       "3     1000      8            81\n",
       "4     1000      9            57"
      ]
     },
     "execution_count": 36,
     "metadata": {},
     "output_type": "execute_result"
    }
   ],
   "source": [
    "messages_for_merge.head()"
   ]
  },
  {
   "cell_type": "markdown",
   "metadata": {},
   "source": [
    "### Расчет израсходованного интернет-трафика по месяцам"
   ]
  },
  {
   "cell_type": "markdown",
   "metadata": {},
   "source": [
    "Для будущего слияния фреймов, сгруппируем данные и получим количество использованного интернет-трафика за месяц для каждого пользователя. Результат запишем в переменную **_internet_for_merge_**."
   ]
  },
  {
   "cell_type": "code",
   "execution_count": 37,
   "metadata": {},
   "outputs": [],
   "source": [
    "internet_for_merge = internet.groupby(['user_id', 'month'])\\\n",
    "                  .agg({'mb_used':'sum'})\\\n",
    "                  .reset_index()\\\n",
    "                  .rename(columns={'mb_used':'gb_used'})"
   ]
  },
  {
   "cell_type": "markdown",
   "metadata": {},
   "source": [
    "Рассчитаем сколько гигабайт в месяц использовали пользователи, результат округлим до целого числа в большую сторону, согласно правилам компании «Мегалайн», для округления примени метод ceil(). Так как количество использованного интернета станет целочисленным, изменим тип на int."
   ]
  },
  {
   "cell_type": "code",
   "execution_count": 38,
   "metadata": {},
   "outputs": [],
   "source": [
    "internet_for_merge['gb_used'] = (internet_for_merge['gb_used'] / 1024).apply(np.ceil)"
   ]
  },
  {
   "cell_type": "code",
   "execution_count": 39,
   "metadata": {},
   "outputs": [
    {
     "data": {
      "text/html": [
       "<div>\n",
       "<style scoped>\n",
       "    .dataframe tbody tr th:only-of-type {\n",
       "        vertical-align: middle;\n",
       "    }\n",
       "\n",
       "    .dataframe tbody tr th {\n",
       "        vertical-align: top;\n",
       "    }\n",
       "\n",
       "    .dataframe thead th {\n",
       "        text-align: right;\n",
       "    }\n",
       "</style>\n",
       "<table border=\"1\" class=\"dataframe\">\n",
       "  <thead>\n",
       "    <tr style=\"text-align: right;\">\n",
       "      <th></th>\n",
       "      <th>user_id</th>\n",
       "      <th>month</th>\n",
       "      <th>gb_used</th>\n",
       "    </tr>\n",
       "  </thead>\n",
       "  <tbody>\n",
       "    <tr>\n",
       "      <th>0</th>\n",
       "      <td>1000</td>\n",
       "      <td>5</td>\n",
       "      <td>3.0</td>\n",
       "    </tr>\n",
       "    <tr>\n",
       "      <th>1</th>\n",
       "      <td>1000</td>\n",
       "      <td>6</td>\n",
       "      <td>23.0</td>\n",
       "    </tr>\n",
       "    <tr>\n",
       "      <th>2</th>\n",
       "      <td>1000</td>\n",
       "      <td>7</td>\n",
       "      <td>14.0</td>\n",
       "    </tr>\n",
       "    <tr>\n",
       "      <th>3</th>\n",
       "      <td>1000</td>\n",
       "      <td>8</td>\n",
       "      <td>14.0</td>\n",
       "    </tr>\n",
       "    <tr>\n",
       "      <th>4</th>\n",
       "      <td>1000</td>\n",
       "      <td>9</td>\n",
       "      <td>15.0</td>\n",
       "    </tr>\n",
       "  </tbody>\n",
       "</table>\n",
       "</div>"
      ],
      "text/plain": [
       "   user_id  month  gb_used\n",
       "0     1000      5      3.0\n",
       "1     1000      6     23.0\n",
       "2     1000      7     14.0\n",
       "3     1000      8     14.0\n",
       "4     1000      9     15.0"
      ]
     },
     "execution_count": 39,
     "metadata": {},
     "output_type": "execute_result"
    }
   ],
   "source": [
    "internet_for_merge.head()"
   ]
  },
  {
   "cell_type": "markdown",
   "metadata": {},
   "source": [
    "### Объединение данных"
   ]
  },
  {
   "cell_type": "markdown",
   "metadata": {},
   "source": [
    "Объединим сгруппированные данные по звонкам, сообщениям, интернету, пользователям и тарифам в один фрейм, с помощью merge(). Объединенные данные запишем в переменную **_df_**."
   ]
  },
  {
   "cell_type": "code",
   "execution_count": 40,
   "metadata": {},
   "outputs": [],
   "source": [
    "df = calls_for_merge.merge(messages_for_merge, on=['user_id','month'], how='outer')"
   ]
  },
  {
   "cell_type": "code",
   "execution_count": 41,
   "metadata": {},
   "outputs": [],
   "source": [
    "df = df.merge(internet_for_merge, on=['user_id','month'], how = 'outer')"
   ]
  },
  {
   "cell_type": "code",
   "execution_count": 42,
   "metadata": {},
   "outputs": [],
   "source": [
    "df = df.merge(users, on='user_id', how='left')"
   ]
  },
  {
   "cell_type": "markdown",
   "metadata": {},
   "source": [
    "Для объединения данных с тарифами, во фрейме **_df_** столбец **_tariff_** переименуем в **_tariff_name_**."
   ]
  },
  {
   "cell_type": "code",
   "execution_count": 43,
   "metadata": {},
   "outputs": [],
   "source": [
    "df = df.rename(columns={'tariff': 'tariff_name'})"
   ]
  },
  {
   "cell_type": "code",
   "execution_count": 44,
   "metadata": {},
   "outputs": [],
   "source": [
    "df = df.merge(tariffs, on='tariff_name', how='left')"
   ]
  },
  {
   "cell_type": "markdown",
   "metadata": {},
   "source": [
    "Проверим, что получилось."
   ]
  },
  {
   "cell_type": "code",
   "execution_count": 45,
   "metadata": {},
   "outputs": [
    {
     "data": {
      "text/html": [
       "<div>\n",
       "<style scoped>\n",
       "    .dataframe tbody tr th:only-of-type {\n",
       "        vertical-align: middle;\n",
       "    }\n",
       "\n",
       "    .dataframe tbody tr th {\n",
       "        vertical-align: top;\n",
       "    }\n",
       "\n",
       "    .dataframe thead th {\n",
       "        text-align: right;\n",
       "    }\n",
       "</style>\n",
       "<table border=\"1\" class=\"dataframe\">\n",
       "  <thead>\n",
       "    <tr style=\"text-align: right;\">\n",
       "      <th></th>\n",
       "      <th>user_id</th>\n",
       "      <th>month</th>\n",
       "      <th>calls_by_month</th>\n",
       "      <th>duration_calls_by_months</th>\n",
       "      <th>sms_by_month</th>\n",
       "      <th>gb_used</th>\n",
       "      <th>age</th>\n",
       "      <th>churn_date</th>\n",
       "      <th>city</th>\n",
       "      <th>first_name</th>\n",
       "      <th>last_name</th>\n",
       "      <th>reg_date</th>\n",
       "      <th>tariff_name</th>\n",
       "      <th>messages_included</th>\n",
       "      <th>mb_per_month_included</th>\n",
       "      <th>minutes_included</th>\n",
       "      <th>rub_monthly_fee</th>\n",
       "      <th>rub_per_gb</th>\n",
       "      <th>rub_per_message</th>\n",
       "      <th>rub_per_minute</th>\n",
       "    </tr>\n",
       "  </thead>\n",
       "  <tbody>\n",
       "    <tr>\n",
       "      <th>0</th>\n",
       "      <td>1000</td>\n",
       "      <td>5</td>\n",
       "      <td>22.0</td>\n",
       "      <td>159.0</td>\n",
       "      <td>22.0</td>\n",
       "      <td>3.0</td>\n",
       "      <td>52</td>\n",
       "      <td>NaT</td>\n",
       "      <td>Краснодар</td>\n",
       "      <td>Рафаил</td>\n",
       "      <td>Верещагин</td>\n",
       "      <td>2018-05-25</td>\n",
       "      <td>ultra</td>\n",
       "      <td>1000</td>\n",
       "      <td>30720</td>\n",
       "      <td>3000</td>\n",
       "      <td>1950</td>\n",
       "      <td>150</td>\n",
       "      <td>1</td>\n",
       "      <td>1</td>\n",
       "    </tr>\n",
       "    <tr>\n",
       "      <th>1</th>\n",
       "      <td>1000</td>\n",
       "      <td>6</td>\n",
       "      <td>43.0</td>\n",
       "      <td>172.0</td>\n",
       "      <td>60.0</td>\n",
       "      <td>23.0</td>\n",
       "      <td>52</td>\n",
       "      <td>NaT</td>\n",
       "      <td>Краснодар</td>\n",
       "      <td>Рафаил</td>\n",
       "      <td>Верещагин</td>\n",
       "      <td>2018-05-25</td>\n",
       "      <td>ultra</td>\n",
       "      <td>1000</td>\n",
       "      <td>30720</td>\n",
       "      <td>3000</td>\n",
       "      <td>1950</td>\n",
       "      <td>150</td>\n",
       "      <td>1</td>\n",
       "      <td>1</td>\n",
       "    </tr>\n",
       "    <tr>\n",
       "      <th>2</th>\n",
       "      <td>1000</td>\n",
       "      <td>7</td>\n",
       "      <td>47.0</td>\n",
       "      <td>340.0</td>\n",
       "      <td>75.0</td>\n",
       "      <td>14.0</td>\n",
       "      <td>52</td>\n",
       "      <td>NaT</td>\n",
       "      <td>Краснодар</td>\n",
       "      <td>Рафаил</td>\n",
       "      <td>Верещагин</td>\n",
       "      <td>2018-05-25</td>\n",
       "      <td>ultra</td>\n",
       "      <td>1000</td>\n",
       "      <td>30720</td>\n",
       "      <td>3000</td>\n",
       "      <td>1950</td>\n",
       "      <td>150</td>\n",
       "      <td>1</td>\n",
       "      <td>1</td>\n",
       "    </tr>\n",
       "    <tr>\n",
       "      <th>3</th>\n",
       "      <td>1000</td>\n",
       "      <td>8</td>\n",
       "      <td>52.0</td>\n",
       "      <td>408.0</td>\n",
       "      <td>81.0</td>\n",
       "      <td>14.0</td>\n",
       "      <td>52</td>\n",
       "      <td>NaT</td>\n",
       "      <td>Краснодар</td>\n",
       "      <td>Рафаил</td>\n",
       "      <td>Верещагин</td>\n",
       "      <td>2018-05-25</td>\n",
       "      <td>ultra</td>\n",
       "      <td>1000</td>\n",
       "      <td>30720</td>\n",
       "      <td>3000</td>\n",
       "      <td>1950</td>\n",
       "      <td>150</td>\n",
       "      <td>1</td>\n",
       "      <td>1</td>\n",
       "    </tr>\n",
       "    <tr>\n",
       "      <th>4</th>\n",
       "      <td>1000</td>\n",
       "      <td>9</td>\n",
       "      <td>58.0</td>\n",
       "      <td>466.0</td>\n",
       "      <td>57.0</td>\n",
       "      <td>15.0</td>\n",
       "      <td>52</td>\n",
       "      <td>NaT</td>\n",
       "      <td>Краснодар</td>\n",
       "      <td>Рафаил</td>\n",
       "      <td>Верещагин</td>\n",
       "      <td>2018-05-25</td>\n",
       "      <td>ultra</td>\n",
       "      <td>1000</td>\n",
       "      <td>30720</td>\n",
       "      <td>3000</td>\n",
       "      <td>1950</td>\n",
       "      <td>150</td>\n",
       "      <td>1</td>\n",
       "      <td>1</td>\n",
       "    </tr>\n",
       "    <tr>\n",
       "      <th>5</th>\n",
       "      <td>1000</td>\n",
       "      <td>10</td>\n",
       "      <td>57.0</td>\n",
       "      <td>350.0</td>\n",
       "      <td>73.0</td>\n",
       "      <td>15.0</td>\n",
       "      <td>52</td>\n",
       "      <td>NaT</td>\n",
       "      <td>Краснодар</td>\n",
       "      <td>Рафаил</td>\n",
       "      <td>Верещагин</td>\n",
       "      <td>2018-05-25</td>\n",
       "      <td>ultra</td>\n",
       "      <td>1000</td>\n",
       "      <td>30720</td>\n",
       "      <td>3000</td>\n",
       "      <td>1950</td>\n",
       "      <td>150</td>\n",
       "      <td>1</td>\n",
       "      <td>1</td>\n",
       "    </tr>\n",
       "    <tr>\n",
       "      <th>6</th>\n",
       "      <td>1000</td>\n",
       "      <td>11</td>\n",
       "      <td>43.0</td>\n",
       "      <td>338.0</td>\n",
       "      <td>58.0</td>\n",
       "      <td>15.0</td>\n",
       "      <td>52</td>\n",
       "      <td>NaT</td>\n",
       "      <td>Краснодар</td>\n",
       "      <td>Рафаил</td>\n",
       "      <td>Верещагин</td>\n",
       "      <td>2018-05-25</td>\n",
       "      <td>ultra</td>\n",
       "      <td>1000</td>\n",
       "      <td>30720</td>\n",
       "      <td>3000</td>\n",
       "      <td>1950</td>\n",
       "      <td>150</td>\n",
       "      <td>1</td>\n",
       "      <td>1</td>\n",
       "    </tr>\n",
       "    <tr>\n",
       "      <th>7</th>\n",
       "      <td>1000</td>\n",
       "      <td>12</td>\n",
       "      <td>46.0</td>\n",
       "      <td>333.0</td>\n",
       "      <td>70.0</td>\n",
       "      <td>10.0</td>\n",
       "      <td>52</td>\n",
       "      <td>NaT</td>\n",
       "      <td>Краснодар</td>\n",
       "      <td>Рафаил</td>\n",
       "      <td>Верещагин</td>\n",
       "      <td>2018-05-25</td>\n",
       "      <td>ultra</td>\n",
       "      <td>1000</td>\n",
       "      <td>30720</td>\n",
       "      <td>3000</td>\n",
       "      <td>1950</td>\n",
       "      <td>150</td>\n",
       "      <td>1</td>\n",
       "      <td>1</td>\n",
       "    </tr>\n",
       "    <tr>\n",
       "      <th>8</th>\n",
       "      <td>1001</td>\n",
       "      <td>11</td>\n",
       "      <td>59.0</td>\n",
       "      <td>430.0</td>\n",
       "      <td>NaN</td>\n",
       "      <td>18.0</td>\n",
       "      <td>41</td>\n",
       "      <td>NaT</td>\n",
       "      <td>Москва</td>\n",
       "      <td>Иван</td>\n",
       "      <td>Ежов</td>\n",
       "      <td>2018-11-01</td>\n",
       "      <td>smart</td>\n",
       "      <td>50</td>\n",
       "      <td>15360</td>\n",
       "      <td>500</td>\n",
       "      <td>550</td>\n",
       "      <td>200</td>\n",
       "      <td>3</td>\n",
       "      <td>3</td>\n",
       "    </tr>\n",
       "    <tr>\n",
       "      <th>9</th>\n",
       "      <td>1001</td>\n",
       "      <td>12</td>\n",
       "      <td>63.0</td>\n",
       "      <td>414.0</td>\n",
       "      <td>NaN</td>\n",
       "      <td>14.0</td>\n",
       "      <td>41</td>\n",
       "      <td>NaT</td>\n",
       "      <td>Москва</td>\n",
       "      <td>Иван</td>\n",
       "      <td>Ежов</td>\n",
       "      <td>2018-11-01</td>\n",
       "      <td>smart</td>\n",
       "      <td>50</td>\n",
       "      <td>15360</td>\n",
       "      <td>500</td>\n",
       "      <td>550</td>\n",
       "      <td>200</td>\n",
       "      <td>3</td>\n",
       "      <td>3</td>\n",
       "    </tr>\n",
       "  </tbody>\n",
       "</table>\n",
       "</div>"
      ],
      "text/plain": [
       "   user_id  month  calls_by_month  duration_calls_by_months  sms_by_month  \\\n",
       "0     1000      5            22.0                     159.0          22.0   \n",
       "1     1000      6            43.0                     172.0          60.0   \n",
       "2     1000      7            47.0                     340.0          75.0   \n",
       "3     1000      8            52.0                     408.0          81.0   \n",
       "4     1000      9            58.0                     466.0          57.0   \n",
       "5     1000     10            57.0                     350.0          73.0   \n",
       "6     1000     11            43.0                     338.0          58.0   \n",
       "7     1000     12            46.0                     333.0          70.0   \n",
       "8     1001     11            59.0                     430.0           NaN   \n",
       "9     1001     12            63.0                     414.0           NaN   \n",
       "\n",
       "   gb_used  age churn_date       city first_name  last_name   reg_date  \\\n",
       "0      3.0   52        NaT  Краснодар     Рафаил  Верещагин 2018-05-25   \n",
       "1     23.0   52        NaT  Краснодар     Рафаил  Верещагин 2018-05-25   \n",
       "2     14.0   52        NaT  Краснодар     Рафаил  Верещагин 2018-05-25   \n",
       "3     14.0   52        NaT  Краснодар     Рафаил  Верещагин 2018-05-25   \n",
       "4     15.0   52        NaT  Краснодар     Рафаил  Верещагин 2018-05-25   \n",
       "5     15.0   52        NaT  Краснодар     Рафаил  Верещагин 2018-05-25   \n",
       "6     15.0   52        NaT  Краснодар     Рафаил  Верещагин 2018-05-25   \n",
       "7     10.0   52        NaT  Краснодар     Рафаил  Верещагин 2018-05-25   \n",
       "8     18.0   41        NaT     Москва       Иван       Ежов 2018-11-01   \n",
       "9     14.0   41        NaT     Москва       Иван       Ежов 2018-11-01   \n",
       "\n",
       "  tariff_name  messages_included  mb_per_month_included  minutes_included  \\\n",
       "0       ultra               1000                  30720              3000   \n",
       "1       ultra               1000                  30720              3000   \n",
       "2       ultra               1000                  30720              3000   \n",
       "3       ultra               1000                  30720              3000   \n",
       "4       ultra               1000                  30720              3000   \n",
       "5       ultra               1000                  30720              3000   \n",
       "6       ultra               1000                  30720              3000   \n",
       "7       ultra               1000                  30720              3000   \n",
       "8       smart                 50                  15360               500   \n",
       "9       smart                 50                  15360               500   \n",
       "\n",
       "   rub_monthly_fee  rub_per_gb  rub_per_message  rub_per_minute  \n",
       "0             1950         150                1               1  \n",
       "1             1950         150                1               1  \n",
       "2             1950         150                1               1  \n",
       "3             1950         150                1               1  \n",
       "4             1950         150                1               1  \n",
       "5             1950         150                1               1  \n",
       "6             1950         150                1               1  \n",
       "7             1950         150                1               1  \n",
       "8              550         200                3               3  \n",
       "9              550         200                3               3  "
      ]
     },
     "execution_count": 45,
     "metadata": {},
     "output_type": "execute_result"
    }
   ],
   "source": [
    "df.head(10)"
   ]
  },
  {
   "cell_type": "code",
   "execution_count": 46,
   "metadata": {},
   "outputs": [
    {
     "name": "stdout",
     "output_type": "stream",
     "text": [
      "<class 'pandas.core.frame.DataFrame'>\n",
      "Int64Index: 3214 entries, 0 to 3213\n",
      "Data columns (total 20 columns):\n",
      " #   Column                    Non-Null Count  Dtype         \n",
      "---  ------                    --------------  -----         \n",
      " 0   user_id                   3214 non-null   int64         \n",
      " 1   month                     3214 non-null   int64         \n",
      " 2   calls_by_month            3174 non-null   float64       \n",
      " 3   duration_calls_by_months  3174 non-null   float64       \n",
      " 4   sms_by_month              2717 non-null   float64       \n",
      " 5   gb_used                   3203 non-null   float64       \n",
      " 6   age                       3214 non-null   int64         \n",
      " 7   churn_date                187 non-null    datetime64[ns]\n",
      " 8   city                      3214 non-null   object        \n",
      " 9   first_name                3214 non-null   object        \n",
      " 10  last_name                 3214 non-null   object        \n",
      " 11  reg_date                  3214 non-null   datetime64[ns]\n",
      " 12  tariff_name               3214 non-null   object        \n",
      " 13  messages_included         3214 non-null   int64         \n",
      " 14  mb_per_month_included     3214 non-null   int64         \n",
      " 15  minutes_included          3214 non-null   int64         \n",
      " 16  rub_monthly_fee           3214 non-null   int64         \n",
      " 17  rub_per_gb                3214 non-null   int64         \n",
      " 18  rub_per_message           3214 non-null   int64         \n",
      " 19  rub_per_minute            3214 non-null   int64         \n",
      "dtypes: datetime64[ns](2), float64(4), int64(10), object(4)\n",
      "memory usage: 527.3+ KB\n"
     ]
    }
   ],
   "source": [
    "df.info()"
   ]
  },
  {
   "cell_type": "markdown",
   "metadata": {},
   "source": [
    "В связи с группировкой данных появились пропуски в объединенных данных. "
   ]
  },
  {
   "cell_type": "code",
   "execution_count": 47,
   "metadata": {},
   "outputs": [
    {
     "data": {
      "text/plain": [
       "user_id                        0\n",
       "month                          0\n",
       "calls_by_month                40\n",
       "duration_calls_by_months      40\n",
       "sms_by_month                 497\n",
       "gb_used                       11\n",
       "age                            0\n",
       "churn_date                  3027\n",
       "city                           0\n",
       "first_name                     0\n",
       "last_name                      0\n",
       "reg_date                       0\n",
       "tariff_name                    0\n",
       "messages_included              0\n",
       "mb_per_month_included          0\n",
       "minutes_included               0\n",
       "rub_monthly_fee                0\n",
       "rub_per_gb                     0\n",
       "rub_per_message                0\n",
       "rub_per_minute                 0\n",
       "dtype: int64"
      ]
     },
     "execution_count": 47,
     "metadata": {},
     "output_type": "execute_result"
    }
   ],
   "source": [
    "df.isna().sum()"
   ]
  },
  {
   "cell_type": "markdown",
   "metadata": {},
   "source": [
    "Данные в столбцах **_calls_by_month_**, **_duration_calls_by_months_**, **_sms_by_month_**, **_gb_used_** заполним нулями, т.к. очевидно, что некоторые пользователи не использовали звонки, сообщения или интернет в определенные месяцы. Пропуски в столбце **_churn_date_** оставляем, т.к. пользователи продолжают пользоваться тарифными услугами.\n",
    "Для заполнения пропусков нулями напишем цикл."
   ]
  },
  {
   "cell_type": "code",
   "execution_count": 48,
   "metadata": {},
   "outputs": [],
   "source": [
    "columns_to_edit = ['calls_by_month', 'duration_calls_by_months', 'sms_by_month', 'gb_used']\n",
    "for column in columns_to_edit:\n",
    "    df[column] = df[column].fillna(0)"
   ]
  },
  {
   "cell_type": "markdown",
   "metadata": {},
   "source": [
    "Проверим исправления."
   ]
  },
  {
   "cell_type": "code",
   "execution_count": 49,
   "metadata": {},
   "outputs": [
    {
     "data": {
      "text/plain": [
       "user_id                        0\n",
       "month                          0\n",
       "calls_by_month                 0\n",
       "duration_calls_by_months       0\n",
       "sms_by_month                   0\n",
       "gb_used                        0\n",
       "age                            0\n",
       "churn_date                  3027\n",
       "city                           0\n",
       "first_name                     0\n",
       "last_name                      0\n",
       "reg_date                       0\n",
       "tariff_name                    0\n",
       "messages_included              0\n",
       "mb_per_month_included          0\n",
       "minutes_included               0\n",
       "rub_monthly_fee                0\n",
       "rub_per_gb                     0\n",
       "rub_per_message                0\n",
       "rub_per_minute                 0\n",
       "dtype: int64"
      ]
     },
     "execution_count": 49,
     "metadata": {},
     "output_type": "execute_result"
    }
   ],
   "source": [
    "df.isna().sum()"
   ]
  },
  {
   "cell_type": "markdown",
   "metadata": {},
   "source": [
    "Пропуски заполнены, кроме столбца **_churn_date_**."
   ]
  },
  {
   "cell_type": "markdown",
   "metadata": {},
   "source": [
    "Проверим повторно на дубли."
   ]
  },
  {
   "cell_type": "code",
   "execution_count": 50,
   "metadata": {},
   "outputs": [
    {
     "name": "stdout",
     "output_type": "stream",
     "text": [
      "0\n"
     ]
    }
   ],
   "source": [
    "print(df.duplicated().sum())"
   ]
  },
  {
   "cell_type": "markdown",
   "metadata": {},
   "source": [
    "Дублей нет."
   ]
  },
  {
   "cell_type": "markdown",
   "metadata": {},
   "source": [
    "У столбцов **_calls_by_month_**, **_duration_calls_by_months_**, **_sms_by_month_**, **_gb_used_** изменим тип данных на целочисленный с помощью цикла, т.к. нет дробных значений."
   ]
  },
  {
   "cell_type": "code",
   "execution_count": 51,
   "metadata": {},
   "outputs": [],
   "source": [
    "for column in columns_to_edit:\n",
    "    df[column] = df[column].astype('int')"
   ]
  },
  {
   "cell_type": "markdown",
   "metadata": {},
   "source": [
    "Проверим."
   ]
  },
  {
   "cell_type": "code",
   "execution_count": 52,
   "metadata": {
    "scrolled": true
   },
   "outputs": [
    {
     "name": "stdout",
     "output_type": "stream",
     "text": [
      "calls_by_month\n",
      "duration_calls_by_months\n",
      "sms_by_month\n",
      "gb_used\n"
     ]
    }
   ],
   "source": [
    "df_columns = list(df.dtypes[df.dtypes == int].index)\n",
    "for column in columns_to_edit:\n",
    "    if column in df_columns:\n",
    "        print(column)"
   ]
  },
  {
   "cell_type": "markdown",
   "metadata": {},
   "source": [
    "### Расчет помесячной выручки с каждого пользователя"
   ]
  },
  {
   "cell_type": "markdown",
   "metadata": {},
   "source": [
    "Для расчета помесячной выручки с каждого пользователя, необходимо сделать следующее:\n",
    "- вычесть бесплатный лимит из суммарного количества звонков, сообщений и интернет-трафика;\n",
    "- остаток умножить на значение из тарифного плана; \n",
    "- прибавить абонентскую плату, соответствующую тарифному плану."
   ]
  },
  {
   "cell_type": "markdown",
   "metadata": {},
   "source": [
    "Для расчета создадим функцию **_calculation_monthly_revenue_**."
   ]
  },
  {
   "cell_type": "code",
   "execution_count": 53,
   "metadata": {},
   "outputs": [],
   "source": [
    "def calculation_monthly_revenue(row):\n",
    "    calls = (row['duration_calls_by_months'] - row['minutes_included']) * row['rub_per_message']\n",
    "    sms = (row['sms_by_month'] - row['messages_included']) * row['rub_per_message']\n",
    "    gb = np.ceil(row['gb_used'] - (row['mb_per_month_included'] / 1024)) * row['rub_per_gb']\n",
    "    total = 0\n",
    "    for item in [calls, sms, gb, row['rub_monthly_fee']]:\n",
    "        if item > 0:\n",
    "            total += item\n",
    "    return total"
   ]
  },
  {
   "cell_type": "markdown",
   "metadata": {},
   "source": [
    "Создадим новый столбец **_monthly_revenue_**, с помощью метода apply() запишем в новый столбец значения, возвращаемые функцией. В столбце будут целочисленные данные, поэтому сразу изменим тип на int."
   ]
  },
  {
   "cell_type": "code",
   "execution_count": 54,
   "metadata": {},
   "outputs": [],
   "source": [
    "df['monthly_revenue'] = df.apply(calculation_monthly_revenue, axis=1).astype('int')"
   ]
  },
  {
   "cell_type": "markdown",
   "metadata": {},
   "source": [
    "Для дополнительного анализа создадим столбец с переплатами **_overpayments_**."
   ]
  },
  {
   "cell_type": "code",
   "execution_count": 55,
   "metadata": {},
   "outputs": [],
   "source": [
    "df['overpayments'] = df['monthly_revenue'] - df['rub_monthly_fee']"
   ]
  },
  {
   "cell_type": "markdown",
   "metadata": {},
   "source": [
    "Проверим, что получилось."
   ]
  },
  {
   "cell_type": "code",
   "execution_count": 56,
   "metadata": {},
   "outputs": [
    {
     "data": {
      "text/html": [
       "<div>\n",
       "<style scoped>\n",
       "    .dataframe tbody tr th:only-of-type {\n",
       "        vertical-align: middle;\n",
       "    }\n",
       "\n",
       "    .dataframe tbody tr th {\n",
       "        vertical-align: top;\n",
       "    }\n",
       "\n",
       "    .dataframe thead th {\n",
       "        text-align: right;\n",
       "    }\n",
       "</style>\n",
       "<table border=\"1\" class=\"dataframe\">\n",
       "  <thead>\n",
       "    <tr style=\"text-align: right;\">\n",
       "      <th></th>\n",
       "      <th>user_id</th>\n",
       "      <th>month</th>\n",
       "      <th>calls_by_month</th>\n",
       "      <th>duration_calls_by_months</th>\n",
       "      <th>sms_by_month</th>\n",
       "      <th>gb_used</th>\n",
       "      <th>age</th>\n",
       "      <th>churn_date</th>\n",
       "      <th>city</th>\n",
       "      <th>first_name</th>\n",
       "      <th>...</th>\n",
       "      <th>tariff_name</th>\n",
       "      <th>messages_included</th>\n",
       "      <th>mb_per_month_included</th>\n",
       "      <th>minutes_included</th>\n",
       "      <th>rub_monthly_fee</th>\n",
       "      <th>rub_per_gb</th>\n",
       "      <th>rub_per_message</th>\n",
       "      <th>rub_per_minute</th>\n",
       "      <th>monthly_revenue</th>\n",
       "      <th>overpayments</th>\n",
       "    </tr>\n",
       "  </thead>\n",
       "  <tbody>\n",
       "    <tr>\n",
       "      <th>0</th>\n",
       "      <td>1000</td>\n",
       "      <td>5</td>\n",
       "      <td>22</td>\n",
       "      <td>159</td>\n",
       "      <td>22</td>\n",
       "      <td>3</td>\n",
       "      <td>52</td>\n",
       "      <td>NaT</td>\n",
       "      <td>Краснодар</td>\n",
       "      <td>Рафаил</td>\n",
       "      <td>...</td>\n",
       "      <td>ultra</td>\n",
       "      <td>1000</td>\n",
       "      <td>30720</td>\n",
       "      <td>3000</td>\n",
       "      <td>1950</td>\n",
       "      <td>150</td>\n",
       "      <td>1</td>\n",
       "      <td>1</td>\n",
       "      <td>1950</td>\n",
       "      <td>0</td>\n",
       "    </tr>\n",
       "    <tr>\n",
       "      <th>1</th>\n",
       "      <td>1000</td>\n",
       "      <td>6</td>\n",
       "      <td>43</td>\n",
       "      <td>172</td>\n",
       "      <td>60</td>\n",
       "      <td>23</td>\n",
       "      <td>52</td>\n",
       "      <td>NaT</td>\n",
       "      <td>Краснодар</td>\n",
       "      <td>Рафаил</td>\n",
       "      <td>...</td>\n",
       "      <td>ultra</td>\n",
       "      <td>1000</td>\n",
       "      <td>30720</td>\n",
       "      <td>3000</td>\n",
       "      <td>1950</td>\n",
       "      <td>150</td>\n",
       "      <td>1</td>\n",
       "      <td>1</td>\n",
       "      <td>1950</td>\n",
       "      <td>0</td>\n",
       "    </tr>\n",
       "    <tr>\n",
       "      <th>2</th>\n",
       "      <td>1000</td>\n",
       "      <td>7</td>\n",
       "      <td>47</td>\n",
       "      <td>340</td>\n",
       "      <td>75</td>\n",
       "      <td>14</td>\n",
       "      <td>52</td>\n",
       "      <td>NaT</td>\n",
       "      <td>Краснодар</td>\n",
       "      <td>Рафаил</td>\n",
       "      <td>...</td>\n",
       "      <td>ultra</td>\n",
       "      <td>1000</td>\n",
       "      <td>30720</td>\n",
       "      <td>3000</td>\n",
       "      <td>1950</td>\n",
       "      <td>150</td>\n",
       "      <td>1</td>\n",
       "      <td>1</td>\n",
       "      <td>1950</td>\n",
       "      <td>0</td>\n",
       "    </tr>\n",
       "    <tr>\n",
       "      <th>3</th>\n",
       "      <td>1000</td>\n",
       "      <td>8</td>\n",
       "      <td>52</td>\n",
       "      <td>408</td>\n",
       "      <td>81</td>\n",
       "      <td>14</td>\n",
       "      <td>52</td>\n",
       "      <td>NaT</td>\n",
       "      <td>Краснодар</td>\n",
       "      <td>Рафаил</td>\n",
       "      <td>...</td>\n",
       "      <td>ultra</td>\n",
       "      <td>1000</td>\n",
       "      <td>30720</td>\n",
       "      <td>3000</td>\n",
       "      <td>1950</td>\n",
       "      <td>150</td>\n",
       "      <td>1</td>\n",
       "      <td>1</td>\n",
       "      <td>1950</td>\n",
       "      <td>0</td>\n",
       "    </tr>\n",
       "    <tr>\n",
       "      <th>4</th>\n",
       "      <td>1000</td>\n",
       "      <td>9</td>\n",
       "      <td>58</td>\n",
       "      <td>466</td>\n",
       "      <td>57</td>\n",
       "      <td>15</td>\n",
       "      <td>52</td>\n",
       "      <td>NaT</td>\n",
       "      <td>Краснодар</td>\n",
       "      <td>Рафаил</td>\n",
       "      <td>...</td>\n",
       "      <td>ultra</td>\n",
       "      <td>1000</td>\n",
       "      <td>30720</td>\n",
       "      <td>3000</td>\n",
       "      <td>1950</td>\n",
       "      <td>150</td>\n",
       "      <td>1</td>\n",
       "      <td>1</td>\n",
       "      <td>1950</td>\n",
       "      <td>0</td>\n",
       "    </tr>\n",
       "    <tr>\n",
       "      <th>5</th>\n",
       "      <td>1000</td>\n",
       "      <td>10</td>\n",
       "      <td>57</td>\n",
       "      <td>350</td>\n",
       "      <td>73</td>\n",
       "      <td>15</td>\n",
       "      <td>52</td>\n",
       "      <td>NaT</td>\n",
       "      <td>Краснодар</td>\n",
       "      <td>Рафаил</td>\n",
       "      <td>...</td>\n",
       "      <td>ultra</td>\n",
       "      <td>1000</td>\n",
       "      <td>30720</td>\n",
       "      <td>3000</td>\n",
       "      <td>1950</td>\n",
       "      <td>150</td>\n",
       "      <td>1</td>\n",
       "      <td>1</td>\n",
       "      <td>1950</td>\n",
       "      <td>0</td>\n",
       "    </tr>\n",
       "    <tr>\n",
       "      <th>6</th>\n",
       "      <td>1000</td>\n",
       "      <td>11</td>\n",
       "      <td>43</td>\n",
       "      <td>338</td>\n",
       "      <td>58</td>\n",
       "      <td>15</td>\n",
       "      <td>52</td>\n",
       "      <td>NaT</td>\n",
       "      <td>Краснодар</td>\n",
       "      <td>Рафаил</td>\n",
       "      <td>...</td>\n",
       "      <td>ultra</td>\n",
       "      <td>1000</td>\n",
       "      <td>30720</td>\n",
       "      <td>3000</td>\n",
       "      <td>1950</td>\n",
       "      <td>150</td>\n",
       "      <td>1</td>\n",
       "      <td>1</td>\n",
       "      <td>1950</td>\n",
       "      <td>0</td>\n",
       "    </tr>\n",
       "    <tr>\n",
       "      <th>7</th>\n",
       "      <td>1000</td>\n",
       "      <td>12</td>\n",
       "      <td>46</td>\n",
       "      <td>333</td>\n",
       "      <td>70</td>\n",
       "      <td>10</td>\n",
       "      <td>52</td>\n",
       "      <td>NaT</td>\n",
       "      <td>Краснодар</td>\n",
       "      <td>Рафаил</td>\n",
       "      <td>...</td>\n",
       "      <td>ultra</td>\n",
       "      <td>1000</td>\n",
       "      <td>30720</td>\n",
       "      <td>3000</td>\n",
       "      <td>1950</td>\n",
       "      <td>150</td>\n",
       "      <td>1</td>\n",
       "      <td>1</td>\n",
       "      <td>1950</td>\n",
       "      <td>0</td>\n",
       "    </tr>\n",
       "    <tr>\n",
       "      <th>8</th>\n",
       "      <td>1001</td>\n",
       "      <td>11</td>\n",
       "      <td>59</td>\n",
       "      <td>430</td>\n",
       "      <td>0</td>\n",
       "      <td>18</td>\n",
       "      <td>41</td>\n",
       "      <td>NaT</td>\n",
       "      <td>Москва</td>\n",
       "      <td>Иван</td>\n",
       "      <td>...</td>\n",
       "      <td>smart</td>\n",
       "      <td>50</td>\n",
       "      <td>15360</td>\n",
       "      <td>500</td>\n",
       "      <td>550</td>\n",
       "      <td>200</td>\n",
       "      <td>3</td>\n",
       "      <td>3</td>\n",
       "      <td>1150</td>\n",
       "      <td>600</td>\n",
       "    </tr>\n",
       "    <tr>\n",
       "      <th>9</th>\n",
       "      <td>1001</td>\n",
       "      <td>12</td>\n",
       "      <td>63</td>\n",
       "      <td>414</td>\n",
       "      <td>0</td>\n",
       "      <td>14</td>\n",
       "      <td>41</td>\n",
       "      <td>NaT</td>\n",
       "      <td>Москва</td>\n",
       "      <td>Иван</td>\n",
       "      <td>...</td>\n",
       "      <td>smart</td>\n",
       "      <td>50</td>\n",
       "      <td>15360</td>\n",
       "      <td>500</td>\n",
       "      <td>550</td>\n",
       "      <td>200</td>\n",
       "      <td>3</td>\n",
       "      <td>3</td>\n",
       "      <td>550</td>\n",
       "      <td>0</td>\n",
       "    </tr>\n",
       "  </tbody>\n",
       "</table>\n",
       "<p>10 rows × 22 columns</p>\n",
       "</div>"
      ],
      "text/plain": [
       "   user_id  month  calls_by_month  duration_calls_by_months  sms_by_month  \\\n",
       "0     1000      5              22                       159            22   \n",
       "1     1000      6              43                       172            60   \n",
       "2     1000      7              47                       340            75   \n",
       "3     1000      8              52                       408            81   \n",
       "4     1000      9              58                       466            57   \n",
       "5     1000     10              57                       350            73   \n",
       "6     1000     11              43                       338            58   \n",
       "7     1000     12              46                       333            70   \n",
       "8     1001     11              59                       430             0   \n",
       "9     1001     12              63                       414             0   \n",
       "\n",
       "   gb_used  age churn_date       city first_name  ... tariff_name  \\\n",
       "0        3   52        NaT  Краснодар     Рафаил  ...       ultra   \n",
       "1       23   52        NaT  Краснодар     Рафаил  ...       ultra   \n",
       "2       14   52        NaT  Краснодар     Рафаил  ...       ultra   \n",
       "3       14   52        NaT  Краснодар     Рафаил  ...       ultra   \n",
       "4       15   52        NaT  Краснодар     Рафаил  ...       ultra   \n",
       "5       15   52        NaT  Краснодар     Рафаил  ...       ultra   \n",
       "6       15   52        NaT  Краснодар     Рафаил  ...       ultra   \n",
       "7       10   52        NaT  Краснодар     Рафаил  ...       ultra   \n",
       "8       18   41        NaT     Москва       Иван  ...       smart   \n",
       "9       14   41        NaT     Москва       Иван  ...       smart   \n",
       "\n",
       "  messages_included mb_per_month_included  minutes_included  rub_monthly_fee  \\\n",
       "0              1000                 30720              3000             1950   \n",
       "1              1000                 30720              3000             1950   \n",
       "2              1000                 30720              3000             1950   \n",
       "3              1000                 30720              3000             1950   \n",
       "4              1000                 30720              3000             1950   \n",
       "5              1000                 30720              3000             1950   \n",
       "6              1000                 30720              3000             1950   \n",
       "7              1000                 30720              3000             1950   \n",
       "8                50                 15360               500              550   \n",
       "9                50                 15360               500              550   \n",
       "\n",
       "   rub_per_gb  rub_per_message  rub_per_minute  monthly_revenue  overpayments  \n",
       "0         150                1               1             1950             0  \n",
       "1         150                1               1             1950             0  \n",
       "2         150                1               1             1950             0  \n",
       "3         150                1               1             1950             0  \n",
       "4         150                1               1             1950             0  \n",
       "5         150                1               1             1950             0  \n",
       "6         150                1               1             1950             0  \n",
       "7         150                1               1             1950             0  \n",
       "8         200                3               3             1150           600  \n",
       "9         200                3               3              550             0  \n",
       "\n",
       "[10 rows x 22 columns]"
      ]
     },
     "execution_count": 56,
     "metadata": {},
     "output_type": "execute_result"
    }
   ],
   "source": [
    "df.head(10)"
   ]
  },
  {
   "cell_type": "markdown",
   "metadata": {},
   "source": [
    "### Вывод"
   ]
  },
  {
   "cell_type": "markdown",
   "metadata": {},
   "source": [
    "- произведена проверка на дубликаты;\n",
    "- изменены типы данных по столбцам с датами: call_date, session_date, message_date, churn_date, reg_date;\n",
    "- согласно требованиям компании «Мегалайн», длительность звонков округлена в большую сторону, если длительность была от 1 секунды и больше;\n",
    "- согласно требованиям компании «Мегалайн», интернет-трафик округлен в большую сторону и переведен в гигабайты;\n",
    "- рассчитано продолжительность и количество звонков, смс, интернет-трафика за каждый месяц;\n",
    "- создана таблица с объединенными данными по пользователям, звонкам, смс, интернет-трафиком, тарифами;\n",
    "- рассчитана выручка с каждого пользователя помесячно."
   ]
  },
  {
   "cell_type": "markdown",
   "metadata": {},
   "source": [
    "## Анализ данных"
   ]
  },
  {
   "cell_type": "markdown",
   "metadata": {},
   "source": [
    "### Boxplot для первоначального анализа"
   ]
  },
  {
   "cell_type": "markdown",
   "metadata": {},
   "source": [
    "Проанализируем, сколько минут, смс-сообщений, интернет-трафика, нужно пользователю в месяц. Дополнительно проанализируем доход с пользователей и количество звонков.\n",
    "Для начала создадим функцию **_box_plotting_**, которая построит графики boxplot по тарифам Смарт и Ультра."
   ]
  },
  {
   "cell_type": "code",
   "execution_count": 57,
   "metadata": {},
   "outputs": [],
   "source": [
    "def box_plotting(cols, title_ylabel, suptitle):\n",
    "    \n",
    "    fig = plt.figure(figsize=(25, 35))\n",
    "\n",
    "    for i, col in enumerate(cols):\n",
    "        if col in cols:\n",
    "            ax = plt.subplot(3, 3, i+1)\n",
    "            df.boxplot(column=col, by='tariff_name', fontsize=20,\n",
    "                            ax=ax, notch=True, boxprops=dict(linestyle='-', linewidth=3),\n",
    "                                         medianprops=dict(linestyle='-', linewidth=3),\n",
    "                                         whiskerprops=dict(linestyle='-', linewidth=3),\n",
    "                                         capprops=dict(linestyle='-', linewidth=3))\n",
    "                                          \n",
    "            ax.set_title(col)\n",
    "            ax.title.set_size(18)\n",
    "            ax.set_xlabel('')\n",
    "            ax.set_ylabel(title_ylabel[i], fontsize=20)\n",
    "            plt.suptitle(suptitle, y=0.93, fontsize=30, fontweight='bold')\n",
    "            \n",
    "    plt.show()"
   ]
  },
  {
   "cell_type": "code",
   "execution_count": 58,
   "metadata": {},
   "outputs": [],
   "source": [
    "cols = ['duration_calls_by_months', 'sms_by_month', 'gb_used', 'monthly_revenue', 'calls_by_month']\n",
    "title_ylabel = ['Минут в месяц', 'Смс в месяц', 'Интренет-трафика в месяц', 'Доход за месяц', 'Количестов звонков в месяц']\n",
    "suptitle = 'Сравнение тарифов Смарт и Ультра'"
   ]
  },
  {
   "cell_type": "code",
   "execution_count": 59,
   "metadata": {},
   "outputs": [
    {
     "data": {
      "image/png": "[encoded data removed]",
      "text/plain": [
       "<Figure size 1800x2520 with 5 Axes>"
      ]
     },
     "metadata": {
      "needs_background": "light"
     },
     "output_type": "display_data"
    }
   ],
   "source": [
    "box_plotting(cols, title_ylabel, suptitle)"
   ]
  },
  {
   "cell_type": "markdown",
   "metadata": {},
   "source": [
    "Продолжительность звонков по тарифу Смарт меньше, чем по тарифу Ультра. Максимальная продолжительность по тарифу Смарт около 900 минут или 15 часов, по тарифу Ультра около 1400 минут или чуть больше 23 часа. Исходя из описания тарифов, большей части пользователей на тарифе Смарт не хватает стандартного количества - 500 минут(8 часов). А у пользователей с тарифом Ультра в конце месяца еще остается больше половины стандартного набора минут. Если отталкиваться от медианы, то у пользователей на тарифе Смарт к концу месяца остается небольшое количество минут, около 78 минут, из стандартного пакета, а у пользователей с тарифом Ультра остается в разы больше неиспользованного времени, более 29 часов. Минимальные значения одинаковые. Если отбросить выбросы, то значения по тарифу Смарт достаточно равномерно распределены.\n",
    " \n",
    "Количество смс отправленных на тарифе Ультра, максимальное 180, превышает максимальное значение на тарифе Смарт 115. Максимальное значение по тарифу Смарт не соответствует стандартному количеству бесплатных минут по тарифу 50, а вот значение в 3 квартиля близко к нему. Пользователи по тарифу Ультра не использует в полной мере смс-сообщения, разница между максимальным значением и стандартным набором бесплатных смс составляет 820 смс. Оба графика скошены вправо. Минимальные значения одинаковые. \n",
    " \n",
    "По потреблению интернет-трафика, максимальное значение тарифа Ультра 48 Гб превосходит значение тарифа Смарт 30 Гб. Если отбросить выбросы, то на тарифе Смарт минимальным значением является 3 Гб, а на таифе Ультра 0 Гб. Исходя из тарифных планов, у пользователей с максимальными значениями замечен перерасход интернет-трафика. На тарифе Смарт перерасход по максимальному значению (без выбросов) на 15 Гб, на тарифе Ультра на 18 Гб. Даже медианное значение по тарифу Смарт превосходит стандартного объема в 15 Гб. У пользователей с тарифом Ультра медианные значения ниже стандартного объема на 12 Гб, а пользователи входящие в третий квартиль не превышают стандартного объема в 30 Гб.\n",
    " \n",
    "На основании графика боксплот можно сделать небольшой вывод, что пользователи активно пользуются интернетом. Количество бесплатных минут на тарифе Смарт не достаточно пользователям. Количество бесплатных минут на тарифе Ультра достаточно для общения. Количество использованных смс-сообщений на тарифе Смарт достаточно большинству пользователям, а количество на тарифе Ультра более чем достаточно."
   ]
  },
  {
   "cell_type": "markdown",
   "metadata": {},
   "source": [
    "По доходам за месяц, пользователям с тарифом Смарт не хватает предоплаченных услуг, видны переплаты. А пользователям на тарифе Ультра хватает предоплаченных услуг, но имеются выбросы. \n",
    "\n",
    "Можно предположить, что выручка от пользователей с тарифом Смарт больше чем от пользователей с тарифом Ультра, т.к. первые переплачивают.\n",
    "\n",
    "На тарифе Ультра пользователи звонят чаще (максимум 180 звонков), чем на тарифе Смарт около 130 звонков."
   ]
  },
  {
   "cell_type": "markdown",
   "metadata": {},
   "source": [
    "Проверим, что месячная выручка от пользователей с тарифом Смарт больше чем от пользователей с тарифом Ультра.\n",
    "Создадим две переменные **_smart_**, **_ultra_**, куда внесем выручку по месяцам каждого тарифа."
   ]
  },
  {
   "cell_type": "code",
   "execution_count": 60,
   "metadata": {},
   "outputs": [],
   "source": [
    "smart = df[df['tariff_name'] == 'smart'] \\\n",
    ".pivot_table(index=['month'], values='monthly_revenue', aggfunc='sum').reset_index()"
   ]
  },
  {
   "cell_type": "code",
   "execution_count": 61,
   "metadata": {},
   "outputs": [],
   "source": [
    "ultra = df[df['tariff_name'] == 'ultra'] \\\n",
    ".pivot_table(index=['month'], values='monthly_revenue', aggfunc='sum').reset_index()"
   ]
  },
  {
   "cell_type": "markdown",
   "metadata": {},
   "source": [
    "Объединим данные в переменную **_smart_**."
   ]
  },
  {
   "cell_type": "code",
   "execution_count": 62,
   "metadata": {},
   "outputs": [],
   "source": [
    "smart = smart.merge(ultra, on='month')"
   ]
  },
  {
   "cell_type": "markdown",
   "metadata": {},
   "source": [
    "В столбце с выручкой по тарифу Ультра прибавим выручку по тарифу Смарт."
   ]
  },
  {
   "cell_type": "code",
   "execution_count": 63,
   "metadata": {},
   "outputs": [],
   "source": [
    "smart['monthly_revenue_y'] = smart.monthly_revenue_x + smart.monthly_revenue_y"
   ]
  },
  {
   "cell_type": "markdown",
   "metadata": {},
   "source": [
    "Добавим новый столбец, который рассчитает процент от общей выручки по тарифу Смарт, значения округлим до сотых."
   ]
  },
  {
   "cell_type": "code",
   "execution_count": 64,
   "metadata": {},
   "outputs": [],
   "source": [
    "smart['%'] = round((smart.monthly_revenue_x / smart.monthly_revenue_y) * 100, 2)"
   ]
  },
  {
   "cell_type": "markdown",
   "metadata": {},
   "source": [
    "Переименуем столбцы."
   ]
  },
  {
   "cell_type": "code",
   "execution_count": 65,
   "metadata": {},
   "outputs": [],
   "source": [
    "smart.columns = ['month', 'smart_monthly_revenue', 'total_monthly_revenue', '%']"
   ]
  },
  {
   "cell_type": "code",
   "execution_count": 66,
   "metadata": {},
   "outputs": [
    {
     "data": {
      "text/html": [
       "<div>\n",
       "<style scoped>\n",
       "    .dataframe tbody tr th:only-of-type {\n",
       "        vertical-align: middle;\n",
       "    }\n",
       "\n",
       "    .dataframe tbody tr th {\n",
       "        vertical-align: top;\n",
       "    }\n",
       "\n",
       "    .dataframe thead th {\n",
       "        text-align: right;\n",
       "    }\n",
       "</style>\n",
       "<table border=\"1\" class=\"dataframe\">\n",
       "  <thead>\n",
       "    <tr style=\"text-align: right;\">\n",
       "      <th></th>\n",
       "      <th>month</th>\n",
       "      <th>smart_monthly_revenue</th>\n",
       "      <th>total_monthly_revenue</th>\n",
       "      <th>%</th>\n",
       "    </tr>\n",
       "  </thead>\n",
       "  <tbody>\n",
       "    <tr>\n",
       "      <th>0</th>\n",
       "      <td>1</td>\n",
       "      <td>24525</td>\n",
       "      <td>42075</td>\n",
       "      <td>58.29</td>\n",
       "    </tr>\n",
       "    <tr>\n",
       "      <th>1</th>\n",
       "      <td>2</td>\n",
       "      <td>48001</td>\n",
       "      <td>95401</td>\n",
       "      <td>50.31</td>\n",
       "    </tr>\n",
       "    <tr>\n",
       "      <th>2</th>\n",
       "      <td>3</td>\n",
       "      <td>89676</td>\n",
       "      <td>164226</td>\n",
       "      <td>54.61</td>\n",
       "    </tr>\n",
       "    <tr>\n",
       "      <th>3</th>\n",
       "      <td>4</td>\n",
       "      <td>107866</td>\n",
       "      <td>217966</td>\n",
       "      <td>49.49</td>\n",
       "    </tr>\n",
       "    <tr>\n",
       "      <th>4</th>\n",
       "      <td>5</td>\n",
       "      <td>168849</td>\n",
       "      <td>306849</td>\n",
       "      <td>55.03</td>\n",
       "    </tr>\n",
       "    <tr>\n",
       "      <th>5</th>\n",
       "      <td>6</td>\n",
       "      <td>197459</td>\n",
       "      <td>368759</td>\n",
       "      <td>53.55</td>\n",
       "    </tr>\n",
       "    <tr>\n",
       "      <th>6</th>\n",
       "      <td>7</td>\n",
       "      <td>246014</td>\n",
       "      <td>438764</td>\n",
       "      <td>56.07</td>\n",
       "    </tr>\n",
       "    <tr>\n",
       "      <th>7</th>\n",
       "      <td>8</td>\n",
       "      <td>310340</td>\n",
       "      <td>533240</td>\n",
       "      <td>58.20</td>\n",
       "    </tr>\n",
       "    <tr>\n",
       "      <th>8</th>\n",
       "      <td>9</td>\n",
       "      <td>324986</td>\n",
       "      <td>557786</td>\n",
       "      <td>58.26</td>\n",
       "    </tr>\n",
       "    <tr>\n",
       "      <th>9</th>\n",
       "      <td>10</td>\n",
       "      <td>401267</td>\n",
       "      <td>655367</td>\n",
       "      <td>61.23</td>\n",
       "    </tr>\n",
       "    <tr>\n",
       "      <th>10</th>\n",
       "      <td>11</td>\n",
       "      <td>424403</td>\n",
       "      <td>704753</td>\n",
       "      <td>60.22</td>\n",
       "    </tr>\n",
       "    <tr>\n",
       "      <th>11</th>\n",
       "      <td>12</td>\n",
       "      <td>531965</td>\n",
       "      <td>829265</td>\n",
       "      <td>64.15</td>\n",
       "    </tr>\n",
       "  </tbody>\n",
       "</table>\n",
       "</div>"
      ],
      "text/plain": [
       "    month  smart_monthly_revenue  total_monthly_revenue      %\n",
       "0       1                  24525                  42075  58.29\n",
       "1       2                  48001                  95401  50.31\n",
       "2       3                  89676                 164226  54.61\n",
       "3       4                 107866                 217966  49.49\n",
       "4       5                 168849                 306849  55.03\n",
       "5       6                 197459                 368759  53.55\n",
       "6       7                 246014                 438764  56.07\n",
       "7       8                 310340                 533240  58.20\n",
       "8       9                 324986                 557786  58.26\n",
       "9      10                 401267                 655367  61.23\n",
       "10     11                 424403                 704753  60.22\n",
       "11     12                 531965                 829265  64.15"
      ]
     },
     "execution_count": 66,
     "metadata": {},
     "output_type": "execute_result"
    }
   ],
   "source": [
    "smart"
   ]
  },
  {
   "cell_type": "markdown",
   "metadata": {},
   "source": [
    "За исключением апреля, выручка действительно была больше от пользователей с тарифом Смарт."
   ]
  },
  {
   "cell_type": "markdown",
   "metadata": {},
   "source": [
    "Подготовим срезы данных для будущих графиков в общем выводе."
   ]
  },
  {
   "cell_type": "markdown",
   "metadata": {},
   "source": [
    "Срез по тарифам."
   ]
  },
  {
   "cell_type": "code",
   "execution_count": 67,
   "metadata": {},
   "outputs": [],
   "source": [
    "users_by_tariff = df.pivot_table(index='tariff_name', values='user_id', aggfunc=lambda x: len(x.unique()))"
   ]
  },
  {
   "cell_type": "markdown",
   "metadata": {},
   "source": [
    "Срез по доходом от тарифов."
   ]
  },
  {
   "cell_type": "code",
   "execution_count": 68,
   "metadata": {},
   "outputs": [],
   "source": [
    "revenue_by_tariff = df.pivot_table(index='tariff_name', values='monthly_revenue', aggfunc='sum')"
   ]
  },
  {
   "cell_type": "markdown",
   "metadata": {},
   "source": [
    "Срез по переплатам по тарифам."
   ]
  },
  {
   "cell_type": "code",
   "execution_count": 69,
   "metadata": {},
   "outputs": [],
   "source": [
    "overpayments = df.pivot_table(index='tariff_name', values='overpayments', aggfunc='sum')"
   ]
  },
  {
   "cell_type": "markdown",
   "metadata": {},
   "source": [
    "Срез по пользователям, коорые переплачивают."
   ]
  },
  {
   "cell_type": "code",
   "execution_count": 70,
   "metadata": {},
   "outputs": [],
   "source": [
    "overpaymented_users = df[df['overpayments'] > 0] \\\n",
    ".pivot_table(index='tariff_name', values='user_id', aggfunc=lambda x: len(x.unique()))"
   ]
  },
  {
   "cell_type": "markdown",
   "metadata": {},
   "source": [
    "Срез по переплатам за услуги по тарифу Смарт."
   ]
  },
  {
   "cell_type": "code",
   "execution_count": 71,
   "metadata": {},
   "outputs": [],
   "source": [
    "call = df[(df['tariff_name'] == 'smart') & (df['duration_calls_by_months'] > 550)]['overpayments'].sum()\n",
    "sms = df[(df['tariff_name'] == 'smart') & (df['sms_by_month'] > 50)]['overpayments'].sum()\n",
    "gb = df[(df['tariff_name'] == 'smart') & (df['gb_used'] > 15)]['overpayments'].sum()\n",
    "overpayments_smart = pd.DataFrame({'type_of_overpayment': ['calls', 'sms', 'gb'], 'count': [call, sms, gb]})\n",
    "overpayments_smart.set_index('type_of_overpayment',inplace=True)"
   ]
  },
  {
   "cell_type": "markdown",
   "metadata": {},
   "source": [
    "Срез по переплатам за интернет-трафик по двум тарифам."
   ]
  },
  {
   "cell_type": "code",
   "execution_count": 72,
   "metadata": {},
   "outputs": [],
   "source": [
    "overpayments_by_gb = df[((df['tariff_name'] == 'smart') &\n",
    "                         (df['gb_used'] > 15)) |\n",
    "                        ((df['tariff_name'] == 'ultra') &\n",
    "                         (df['gb_used'] > 30))] \\\n",
    ".pivot_table(index='tariff_name', values='overpayments', aggfunc='sum')"
   ]
  },
  {
   "cell_type": "markdown",
   "metadata": {},
   "source": [
    "Создадим функцию **_pie_plotting_**, которая по вышеуказанным срезам будет строить круговые графики."
   ]
  },
  {
   "cell_type": "code",
   "execution_count": 73,
   "metadata": {},
   "outputs": [],
   "source": [
    "def pie_plotting(cols_pie, titles_pie, columns, explode):\n",
    "    \n",
    "    fig = plt.figure()\n",
    "\n",
    "    cols_pie.plot(kind='pie', y=columns, title=titles_pie, \n",
    "    autopct = lambda p: '{:.2f}%\\n ({:,.0f})'.format(p, p * cols_pie[columns].sum() / 100),\n",
    "    fontsize=14, figsize=(6, 6),\n",
    "    shadow=True, startangle=40, \n",
    "    colors = ['#43B3DC', '#BBF73E', '#FF4040'],\n",
    "    explode=explode,\n",
    "    legend=False)\n",
    "    \n",
    "    plt.show()"
   ]
  },
  {
   "cell_type": "markdown",
   "metadata": {},
   "source": [
    "### Нахождение и исключение выбросов."
   ]
  },
  {
   "cell_type": "markdown",
   "metadata": {},
   "source": [
    "Создадим функцию **_remove_outliers_**, которая уберет выбросы по столбцам **_duration_calls_by_months_**, **_sms_by_month_**, **_gb_used_**, **_monthly_revenue_**, **_calls_by_month_**. "
   ]
  },
  {
   "cell_type": "code",
   "execution_count": 74,
   "metadata": {},
   "outputs": [],
   "source": [
    "def remove_outliers(df, cols):\n",
    "    for col in cols:\n",
    "        q1 = df[col].quantile(0.25)\n",
    "        q3 = df[col].quantile(0.75)\n",
    "        iqr = q3 - q1\n",
    "        df[col] = df[((df[col] >= (q1 - 1.5 * iqr)) & (df[col] <= (q3 + 1.5 * iqr)))][col]"
   ]
  },
  {
   "cell_type": "code",
   "execution_count": 75,
   "metadata": {},
   "outputs": [],
   "source": [
    "cols = ['duration_calls_by_months', 'sms_by_month', 'gb_used', 'monthly_revenue', 'calls_by_month']"
   ]
  },
  {
   "cell_type": "markdown",
   "metadata": {},
   "source": [
    "Применим функцию."
   ]
  },
  {
   "cell_type": "code",
   "execution_count": 76,
   "metadata": {},
   "outputs": [],
   "source": [
    "remove_outliers(df, cols)"
   ]
  },
  {
   "cell_type": "markdown",
   "metadata": {},
   "source": [
    "### Вычисление среднего, дисперсии и стандартного отклонения"
   ]
  },
  {
   "cell_type": "markdown",
   "metadata": {},
   "source": [
    "Вычислим среднее, дисперсию и стандартное отклонения для столбцов **_duration_calls_by_months_**, **_sms_by_month_**, **_gb_used_**, **_monthly_revenue_**, **_calls_by_month_**. Для этого напишем функцию **_central_trend_measures_** для вычисления всех мер."
   ]
  },
  {
   "cell_type": "code",
   "execution_count": 77,
   "metadata": {},
   "outputs": [],
   "source": [
    "def central_trend_measures(cols):\n",
    "    for col in cols:\n",
    "        result = round(df.pivot_table(index='tariff_name', values=col, aggfunc=['median','mean','var','std']), 2)\n",
    "        result.columns = ['median', 'mean', 'var', 'std']\n",
    "        print(col)\n",
    "        display(result)\n",
    "        print()\n",
    "        print()"
   ]
  },
  {
   "cell_type": "markdown",
   "metadata": {},
   "source": [
    "Применим функцию."
   ]
  },
  {
   "cell_type": "code",
   "execution_count": 78,
   "metadata": {},
   "outputs": [
    {
     "name": "stdout",
     "output_type": "stream",
     "text": [
      "duration_calls_by_months\n"
     ]
    },
    {
     "data": {
      "text/html": [
       "<div>\n",
       "<style scoped>\n",
       "    .dataframe tbody tr th:only-of-type {\n",
       "        vertical-align: middle;\n",
       "    }\n",
       "\n",
       "    .dataframe tbody tr th {\n",
       "        vertical-align: top;\n",
       "    }\n",
       "\n",
       "    .dataframe thead th {\n",
       "        text-align: right;\n",
       "    }\n",
       "</style>\n",
       "<table border=\"1\" class=\"dataframe\">\n",
       "  <thead>\n",
       "    <tr style=\"text-align: right;\">\n",
       "      <th></th>\n",
       "      <th>median</th>\n",
       "      <th>mean</th>\n",
       "      <th>var</th>\n",
       "      <th>std</th>\n",
       "    </tr>\n",
       "    <tr>\n",
       "      <th>tariff_name</th>\n",
       "      <th></th>\n",
       "      <th></th>\n",
       "      <th></th>\n",
       "      <th></th>\n",
       "    </tr>\n",
       "  </thead>\n",
       "  <tbody>\n",
       "    <tr>\n",
       "      <th>smart</th>\n",
       "      <td>421.0</td>\n",
       "      <td>416.86</td>\n",
       "      <td>35371.70</td>\n",
       "      <td>188.07</td>\n",
       "    </tr>\n",
       "    <tr>\n",
       "      <th>ultra</th>\n",
       "      <td>495.0</td>\n",
       "      <td>482.76</td>\n",
       "      <td>74842.58</td>\n",
       "      <td>273.57</td>\n",
       "    </tr>\n",
       "  </tbody>\n",
       "</table>\n",
       "</div>"
      ],
      "text/plain": [
       "             median    mean       var     std\n",
       "tariff_name                                  \n",
       "smart         421.0  416.86  35371.70  188.07\n",
       "ultra         495.0  482.76  74842.58  273.57"
      ]
     },
     "metadata": {},
     "output_type": "display_data"
    },
    {
     "name": "stdout",
     "output_type": "stream",
     "text": [
      "\n",
      "\n",
      "sms_by_month\n"
     ]
    },
    {
     "data": {
      "text/html": [
       "<div>\n",
       "<style scoped>\n",
       "    .dataframe tbody tr th:only-of-type {\n",
       "        vertical-align: middle;\n",
       "    }\n",
       "\n",
       "    .dataframe tbody tr th {\n",
       "        vertical-align: top;\n",
       "    }\n",
       "\n",
       "    .dataframe thead th {\n",
       "        text-align: right;\n",
       "    }\n",
       "</style>\n",
       "<table border=\"1\" class=\"dataframe\">\n",
       "  <thead>\n",
       "    <tr style=\"text-align: right;\">\n",
       "      <th></th>\n",
       "      <th>median</th>\n",
       "      <th>mean</th>\n",
       "      <th>var</th>\n",
       "      <th>std</th>\n",
       "    </tr>\n",
       "    <tr>\n",
       "      <th>tariff_name</th>\n",
       "      <th></th>\n",
       "      <th></th>\n",
       "      <th></th>\n",
       "      <th></th>\n",
       "    </tr>\n",
       "  </thead>\n",
       "  <tbody>\n",
       "    <tr>\n",
       "      <th>smart</th>\n",
       "      <td>28.0</td>\n",
       "      <td>33.10</td>\n",
       "      <td>769.78</td>\n",
       "      <td>27.74</td>\n",
       "    </tr>\n",
       "    <tr>\n",
       "      <th>ultra</th>\n",
       "      <td>31.0</td>\n",
       "      <td>39.35</td>\n",
       "      <td>1292.67</td>\n",
       "      <td>35.95</td>\n",
       "    </tr>\n",
       "  </tbody>\n",
       "</table>\n",
       "</div>"
      ],
      "text/plain": [
       "             median   mean      var    std\n",
       "tariff_name                               \n",
       "smart          28.0  33.10   769.78  27.74\n",
       "ultra          31.0  39.35  1292.67  35.95"
      ]
     },
     "metadata": {},
     "output_type": "display_data"
    },
    {
     "name": "stdout",
     "output_type": "stream",
     "text": [
      "\n",
      "\n",
      "gb_used\n"
     ]
    },
    {
     "data": {
      "text/html": [
       "<div>\n",
       "<style scoped>\n",
       "    .dataframe tbody tr th:only-of-type {\n",
       "        vertical-align: middle;\n",
       "    }\n",
       "\n",
       "    .dataframe tbody tr th {\n",
       "        vertical-align: top;\n",
       "    }\n",
       "\n",
       "    .dataframe thead th {\n",
       "        text-align: right;\n",
       "    }\n",
       "</style>\n",
       "<table border=\"1\" class=\"dataframe\">\n",
       "  <thead>\n",
       "    <tr style=\"text-align: right;\">\n",
       "      <th></th>\n",
       "      <th>median</th>\n",
       "      <th>mean</th>\n",
       "      <th>var</th>\n",
       "      <th>std</th>\n",
       "    </tr>\n",
       "    <tr>\n",
       "      <th>tariff_name</th>\n",
       "      <th></th>\n",
       "      <th></th>\n",
       "      <th></th>\n",
       "      <th></th>\n",
       "    </tr>\n",
       "  </thead>\n",
       "  <tbody>\n",
       "    <tr>\n",
       "      <th>smart</th>\n",
       "      <td>17.0</td>\n",
       "      <td>16.27</td>\n",
       "      <td>31.57</td>\n",
       "      <td>5.62</td>\n",
       "    </tr>\n",
       "    <tr>\n",
       "      <th>ultra</th>\n",
       "      <td>18.0</td>\n",
       "      <td>17.99</td>\n",
       "      <td>66.65</td>\n",
       "      <td>8.16</td>\n",
       "    </tr>\n",
       "  </tbody>\n",
       "</table>\n",
       "</div>"
      ],
      "text/plain": [
       "             median   mean    var   std\n",
       "tariff_name                            \n",
       "smart          17.0  16.27  31.57  5.62\n",
       "ultra          18.0  17.99  66.65  8.16"
      ]
     },
     "metadata": {},
     "output_type": "display_data"
    },
    {
     "name": "stdout",
     "output_type": "stream",
     "text": [
      "\n",
      "\n",
      "monthly_revenue\n"
     ]
    },
    {
     "data": {
      "text/html": [
       "<div>\n",
       "<style scoped>\n",
       "    .dataframe tbody tr th:only-of-type {\n",
       "        vertical-align: middle;\n",
       "    }\n",
       "\n",
       "    .dataframe tbody tr th {\n",
       "        vertical-align: top;\n",
       "    }\n",
       "\n",
       "    .dataframe thead th {\n",
       "        text-align: right;\n",
       "    }\n",
       "</style>\n",
       "<table border=\"1\" class=\"dataframe\">\n",
       "  <thead>\n",
       "    <tr style=\"text-align: right;\">\n",
       "      <th></th>\n",
       "      <th>median</th>\n",
       "      <th>mean</th>\n",
       "      <th>var</th>\n",
       "      <th>std</th>\n",
       "    </tr>\n",
       "    <tr>\n",
       "      <th>tariff_name</th>\n",
       "      <th></th>\n",
       "      <th></th>\n",
       "      <th></th>\n",
       "      <th></th>\n",
       "    </tr>\n",
       "  </thead>\n",
       "  <tbody>\n",
       "    <tr>\n",
       "      <th>smart</th>\n",
       "      <td>1009.0</td>\n",
       "      <td>1252.76</td>\n",
       "      <td>547377.75</td>\n",
       "      <td>739.85</td>\n",
       "    </tr>\n",
       "    <tr>\n",
       "      <th>ultra</th>\n",
       "      <td>1950.0</td>\n",
       "      <td>2049.23</td>\n",
       "      <td>98739.14</td>\n",
       "      <td>314.23</td>\n",
       "    </tr>\n",
       "  </tbody>\n",
       "</table>\n",
       "</div>"
      ],
      "text/plain": [
       "             median     mean        var     std\n",
       "tariff_name                                    \n",
       "smart        1009.0  1252.76  547377.75  739.85\n",
       "ultra        1950.0  2049.23   98739.14  314.23"
      ]
     },
     "metadata": {},
     "output_type": "display_data"
    },
    {
     "name": "stdout",
     "output_type": "stream",
     "text": [
      "\n",
      "\n",
      "calls_by_month\n"
     ]
    },
    {
     "data": {
      "text/html": [
       "<div>\n",
       "<style scoped>\n",
       "    .dataframe tbody tr th:only-of-type {\n",
       "        vertical-align: middle;\n",
       "    }\n",
       "\n",
       "    .dataframe tbody tr th {\n",
       "        vertical-align: top;\n",
       "    }\n",
       "\n",
       "    .dataframe thead th {\n",
       "        text-align: right;\n",
       "    }\n",
       "</style>\n",
       "<table border=\"1\" class=\"dataframe\">\n",
       "  <thead>\n",
       "    <tr style=\"text-align: right;\">\n",
       "      <th></th>\n",
       "      <th>median</th>\n",
       "      <th>mean</th>\n",
       "      <th>var</th>\n",
       "      <th>std</th>\n",
       "    </tr>\n",
       "    <tr>\n",
       "      <th>tariff_name</th>\n",
       "      <th></th>\n",
       "      <th></th>\n",
       "      <th></th>\n",
       "      <th></th>\n",
       "    </tr>\n",
       "  </thead>\n",
       "  <tbody>\n",
       "    <tr>\n",
       "      <th>smart</th>\n",
       "      <td>60.0</td>\n",
       "      <td>58.40</td>\n",
       "      <td>664.43</td>\n",
       "      <td>25.78</td>\n",
       "    </tr>\n",
       "    <tr>\n",
       "      <th>ultra</th>\n",
       "      <td>68.0</td>\n",
       "      <td>67.16</td>\n",
       "      <td>1410.80</td>\n",
       "      <td>37.56</td>\n",
       "    </tr>\n",
       "  </tbody>\n",
       "</table>\n",
       "</div>"
      ],
      "text/plain": [
       "             median   mean      var    std\n",
       "tariff_name                               \n",
       "smart          60.0  58.40   664.43  25.78\n",
       "ultra          68.0  67.16  1410.80  37.56"
      ]
     },
     "metadata": {},
     "output_type": "display_data"
    },
    {
     "name": "stdout",
     "output_type": "stream",
     "text": [
      "\n",
      "\n"
     ]
    }
   ],
   "source": [
    "central_trend_measures(cols)"
   ]
  },
  {
   "cell_type": "markdown",
   "metadata": {},
   "source": [
    "У столбцов **_duration_calls_by_months_**, **_gb_used_**, **_calls_by_month_** по двум тарифам значения среднего и медианы значительно близки между собой, что говорит о близком к нормальному распределению данных. Но показатели стандартного отклонения нам говорят, что по тарифу Ультра отклонения от среднего гораздо больше, чем на тарифе Смарт. Соответственно ожидаем, что по тарифу смарт значения менее близки к нормальному распределению. "
   ]
  },
  {
   "cell_type": "code",
   "execution_count": 79,
   "metadata": {},
   "outputs": [
    {
     "data": {
      "text/html": [
       "<div>\n",
       "<style scoped>\n",
       "    .dataframe tbody tr th:only-of-type {\n",
       "        vertical-align: middle;\n",
       "    }\n",
       "\n",
       "    .dataframe tbody tr th {\n",
       "        vertical-align: top;\n",
       "    }\n",
       "\n",
       "    .dataframe thead th {\n",
       "        text-align: right;\n",
       "    }\n",
       "</style>\n",
       "<table border=\"1\" class=\"dataframe\">\n",
       "  <thead>\n",
       "    <tr style=\"text-align: right;\">\n",
       "      <th></th>\n",
       "      <th>tariff_name</th>\n",
       "      <th>smart</th>\n",
       "      <th>ultra</th>\n",
       "    </tr>\n",
       "  </thead>\n",
       "  <tbody>\n",
       "    <tr>\n",
       "      <th rowspan=\"3\" valign=\"top\">duration_calls_by_months</th>\n",
       "      <th>mean</th>\n",
       "      <td>416</td>\n",
       "      <td>482</td>\n",
       "    </tr>\n",
       "    <tr>\n",
       "      <th>std</th>\n",
       "      <td>188</td>\n",
       "      <td>273</td>\n",
       "    </tr>\n",
       "    <tr>\n",
       "      <th>var</th>\n",
       "      <td>35371</td>\n",
       "      <td>74842</td>\n",
       "    </tr>\n",
       "    <tr>\n",
       "      <th rowspan=\"3\" valign=\"top\">sms_by_month</th>\n",
       "      <th>mean</th>\n",
       "      <td>33</td>\n",
       "      <td>39</td>\n",
       "    </tr>\n",
       "    <tr>\n",
       "      <th>std</th>\n",
       "      <td>27</td>\n",
       "      <td>35</td>\n",
       "    </tr>\n",
       "    <tr>\n",
       "      <th>var</th>\n",
       "      <td>769</td>\n",
       "      <td>1292</td>\n",
       "    </tr>\n",
       "    <tr>\n",
       "      <th rowspan=\"3\" valign=\"top\">gb_used</th>\n",
       "      <th>mean</th>\n",
       "      <td>16</td>\n",
       "      <td>17</td>\n",
       "    </tr>\n",
       "    <tr>\n",
       "      <th>std</th>\n",
       "      <td>5</td>\n",
       "      <td>8</td>\n",
       "    </tr>\n",
       "    <tr>\n",
       "      <th>var</th>\n",
       "      <td>31</td>\n",
       "      <td>66</td>\n",
       "    </tr>\n",
       "  </tbody>\n",
       "</table>\n",
       "</div>"
      ],
      "text/plain": [
       "tariff_name                    smart  ultra\n",
       "duration_calls_by_months mean    416    482\n",
       "                         std     188    273\n",
       "                         var   35371  74842\n",
       "sms_by_month             mean     33     39\n",
       "                         std      27     35\n",
       "                         var     769   1292\n",
       "gb_used                  mean     16     17\n",
       "                         std       5      8\n",
       "                         var      31     66"
      ]
     },
     "execution_count": 79,
     "metadata": {},
     "output_type": "execute_result"
    }
   ],
   "source": [
    "df.groupby('tariff_name').agg({'duration_calls_by_months':['mean', 'std', 'var'],\n",
    "                              'sms_by_month': ['mean', 'std', 'var'],\n",
    "                              'gb_used': ['mean', 'std', 'var']}).T.astype('int')"
   ]
  },
  {
   "cell_type": "markdown",
   "metadata": {},
   "source": [
    "### Построение графиков"
   ]
  },
  {
   "cell_type": "markdown",
   "metadata": {},
   "source": [
    "Создадим функцию **_hist_plotting_**, которая построит гистограммы услуг, а также дохода по тарифам Смарт и Ультра."
   ]
  },
  {
   "cell_type": "code",
   "execution_count": 80,
   "metadata": {},
   "outputs": [],
   "source": [
    "def hist_plotting(cols, x_label, bins):\n",
    "    fig = plt.figure(figsize=(25, 25))\n",
    "\n",
    "    for i, col in enumerate(cols):\n",
    "        if col in cols:\n",
    "            ax = plt.subplot(3, 3, i+1)\n",
    "            df[df['tariff_name'] == 'smart'].hist(col, bins=bins, ax=ax, color='#43B3DC', ec='black')\n",
    "            df[df['tariff_name'] == 'ultra'].hist(col, bins=bins, ax=ax, color='#BBF73E', ec='black', alpha=0.7)\n",
    "            ax.set_title(col)\n",
    "            ax.title.set_size(18)\n",
    "            ax.set_xlabel(x_label[i], fontsize=20)\n",
    "            plt.suptitle(suptitle, y=0.93, fontsize=30, fontweight='bold')\n",
    "            plt.legend(['Смарт', 'Ультра'], fontsize=14)\n",
    "plt.show()"
   ]
  },
  {
   "cell_type": "code",
   "execution_count": 81,
   "metadata": {},
   "outputs": [],
   "source": [
    "x_label = ['Потраченных минут в месяц', 'Потраченных смс в месяц', 'Потраченного трафика в месяц',\n",
    "           'Доход с пользователей в месяц', 'Количество звонков в месяц']\n",
    "suptitle = 'Данные по тарифам Смарт и Ультра'"
   ]
  },
  {
   "cell_type": "code",
   "execution_count": 82,
   "metadata": {},
   "outputs": [
    {
     "data": {
      "image/png": "[encoded data removed]",
      "text/plain": [
       "<Figure size 1800x1800 with 5 Axes>"
      ]
     },
     "metadata": {
      "needs_background": "light"
     },
     "output_type": "display_data"
    }
   ],
   "source": [
    "hist_plotting(cols, x_label, 17)"
   ]
  },
  {
   "cell_type": "markdown",
   "metadata": {},
   "source": [
    "Посмотрим какой процент пользователей не выходят за рамки совего лимита."
   ]
  },
  {
   "cell_type": "code",
   "execution_count": 83,
   "metadata": {},
   "outputs": [
    {
     "name": "stdout",
     "output_type": "stream",
     "text": [
      "Процент пользователей, которые не выходят за рамки совоего лимита по тарифу Смарт: 7.14%.\n"
     ]
    }
   ],
   "source": [
    "print(f\"Процент пользователей, которые не выходят за рамки совоего лимита по тарифу Смарт: {round(100 - ((len(df[(df['tariff_name'] == 'smart') & (df['monthly_revenue'] >= 551)]['user_id'].unique())) / (len(df[(df['tariff_name'] == 'smart')]['user_id'].unique()))) * 100, 2)}%.\")"
   ]
  },
  {
   "cell_type": "code",
   "execution_count": 84,
   "metadata": {},
   "outputs": [
    {
     "name": "stdout",
     "output_type": "stream",
     "text": [
      "Процент пользователей, которые не выходят за рамки совоего лимита по тарифу Ультра: 71.62%.\n"
     ]
    }
   ],
   "source": [
    "print(f\"Процент пользователей, которые не выходят за рамки совоего лимита по тарифу Ультра: {round(100 - ((len(df[(df['tariff_name'] == 'ultra') & (df['monthly_revenue'] >= 1951)]['user_id'].unique())) / (len(df[(df['tariff_name'] == 'ultra')]['user_id'].unique()))) * 100, 2)}%.\")"
   ]
  },
  {
   "cell_type": "markdown",
   "metadata": {},
   "source": [
    "Значения в столбцах **_duration_calls_by_months_**, **_gb_used_**, **_calls_by_month_** по тарифу Смарт, близки к нормальному распределению. Значения по столбцам **_sms_by_month_** и **_monthly_revenue_** скошены влево, имеет отрицательное направление оси. \n",
    " \n",
    "Пользователи не так часто используют смс-сообщения, об этом свидетельствует неиспользованные(нулевые) смс-сообщения у обоих тарифов. А вот по месячному доходу, можно сказать, что часть пользователей 7.14% на тарифе Смарт стараются не переплачивать и пользуются только предоплаченными услугами. На тарифе Ультра ситуация иная: большинство пользователей 71.62% не переплачивают по тарифу. \n",
    "\n",
    " \n",
    "Если посмотреть глазами среднестатистического пользователя, то количество предоплаченных минут и смс по тарифам, хватает на месяц без переплат, а вот за интернет придется доплатить. Стоит отметить, что пользователи реже пользуются смс-сообщениями."
   ]
  },
  {
   "cell_type": "markdown",
   "metadata": {},
   "source": [
    "Значения в столбцах **_gb_used_** тарифа Ультра, близки к нормальному распределению. Значения по столбцам **_sms_by_month_** и **_monthly_revenue_** скошены влево, имеет отрицательное направление оси. Пользователи не так часто используют смс-сообщения, об этом свидетельствует неиспользованные(нулевые) смс-сообщения. А вот по месячному доходу, можно сказать, что большинство пользователей практически не переплачивают и пользуются только предоплаченными услугами. Количество использованных минут также входит в лимит предоплаченных услуг. По расходу интрнет-трафика, пользователи стараются войти в лимит предоплаченного объема, хотя некоторым это не удаются сделать и приходится доплачивать за сверх лимит от 30 Гб.\n",
    "\n",
    "И так среднестатистический пользователь не переплачивает за минуты разговора, смс-сообщения, но немного переплачивает за интернет. Также стоит отметить, что пользователи реже пользуются смс-сообщениями."
   ]
  },
  {
   "cell_type": "markdown",
   "metadata": {},
   "source": [
    "Найдем процент пользователей, которые переплачивают за интернет-трафик."
   ]
  },
  {
   "cell_type": "code",
   "execution_count": 85,
   "metadata": {},
   "outputs": [
    {
     "name": "stdout",
     "output_type": "stream",
     "text": [
      "Процент пользователей, которые переплачивают за интернет-трафик по тарифу Смарт: 87.14%.\n"
     ]
    }
   ],
   "source": [
    "print(f\"Процент пользователей, которые переплачивают за интернет-трафик по тарифу Смарт: {round(((len(df[(df['tariff_name'] == 'smart') & (df['gb_used'] >= 16)]['user_id'].unique())) / (len(df[(df['tariff_name'] == 'smart')]['user_id'].unique()))) * 100, 2)}%.\")"
   ]
  },
  {
   "cell_type": "code",
   "execution_count": 86,
   "metadata": {},
   "outputs": [
    {
     "name": "stdout",
     "output_type": "stream",
     "text": [
      "Процент пользователей, которые переплачивают за интернет-трафик по тарифу Ультра: 20.95%.\n"
     ]
    }
   ],
   "source": [
    "print(f\"Процент пользователей, которые переплачивают за интернет-трафик по тарифу Ультра: {round(((len(df[(df['tariff_name'] == 'ultra') & (df['gb_used'] >= 31)]['user_id'].unique())) / (len(df[(df['tariff_name'] == 'ultra')]['user_id'].unique()))) * 100, 2)}%.\")"
   ]
  },
  {
   "cell_type": "markdown",
   "metadata": {},
   "source": [
    "Пользователи тарифа Смарт чаще переплачивают за интернет-трафик, чем пользователи тарифа Ультра."
   ]
  },
  {
   "cell_type": "markdown",
   "metadata": {},
   "source": [
    "### Вывод"
   ]
  },
  {
   "cell_type": "markdown",
   "metadata": {},
   "source": [
    "- для компании «Мегалайн», тариф Смарт в месяц приносит больше выручки, чем тариф Ультра. Среднее за месяц составляет 56.62% от общей выручки;\n",
    "- 92.86% пользователей тарифа Смарт выходят за рамки своего тарифа и переплачивают за услуги;\n",
    "- в основном для пользователей тарифа Смарт переплата составляет за звонки и использование интернета;\n",
    "- 28.38% пользователей тарифа Ультра выходят за рамки своего тарифа и переплачивают за услуги;\n",
    "- в основном для пользователей тарифа Ультра переплата составляет только за использование интернета;\n",
    "- пользователи обоих тарифов меньше всего используют смс-сообщения;\n",
    "- среднестатистическому пользователю достаточно предоплаченных минут 417 и смс 33 по тарифу Смарт, но за интернет-трафик 16.27 Гб придется доплатить (сверх лимит 1.27 Гб);\n",
    "- среднестатистическому пользователю достаточно предоплаченных минут 483 и смс 39 интернет-трафик 17.99 Гб по тарифу Ультра."
   ]
  },
  {
   "cell_type": "markdown",
   "metadata": {},
   "source": [
    "## Проверка гипотез"
   ]
  },
  {
   "cell_type": "markdown",
   "metadata": {},
   "source": [
    "Необходимо проверить две гипотезы: \n",
    "- средняя выручка пользователей тарифов «Ультра» и «Смарт» различаются;\n",
    "- средняя выручка пользователей из Москвы отличается от выручки пользователей из других регионов."
   ]
  },
  {
   "cell_type": "markdown",
   "metadata": {},
   "source": [
    "В обоих случаях нам нужно проверить две независимые между собой выборки, поэтому будем использовать гипотезу о равенстве средних двух генеральных совокупностей. В этом нам поможет t-критерий Стьюдента."
   ]
  },
  {
   "cell_type": "markdown",
   "metadata": {},
   "source": [
    "**Сформулируем гипотезы для тарифов Смарт и Ультра**:\n",
    "\n",
    "- **H0** - средняя выручка пользователей тарифов «Ультра» и «Смарт» не различаются;\n",
    "- **H1** - средняя выручка пользователей тарифов «Ультра» и «Смарт» различаются."
   ]
  },
  {
   "cell_type": "markdown",
   "metadata": {},
   "source": [
    "В переменную **_smart_revenue_** запишем выручку по тарифу Смарт, в переменную **_ultra_revenue_** запишем выручки по тарифу Ультра. С помощью логической индексации уберем пустые значения, которые образовались при удалении выбросов."
   ]
  },
  {
   "cell_type": "code",
   "execution_count": 87,
   "metadata": {},
   "outputs": [],
   "source": [
    "smart_revenue = df.loc[(df['tariff_name'] == 'smart') & (df['monthly_revenue'].notna()), 'monthly_revenue']"
   ]
  },
  {
   "cell_type": "code",
   "execution_count": 88,
   "metadata": {},
   "outputs": [],
   "source": [
    "ultra_revenue = df.loc[(df['tariff_name'] == 'ultra') & (df['monthly_revenue'].notna()), 'monthly_revenue']"
   ]
  },
  {
   "cell_type": "markdown",
   "metadata": {},
   "source": [
    "Введем критический уровень статистической значимости 0.05. Если p-value окажется меньше него - отвергаем гипотезу."
   ]
  },
  {
   "cell_type": "code",
   "execution_count": 89,
   "metadata": {},
   "outputs": [],
   "source": [
    "alpha = .05"
   ]
  },
  {
   "cell_type": "markdown",
   "metadata": {},
   "source": [
    "Произведем расчеты с помощью метода scipy.stats.ttest_ind()."
   ]
  },
  {
   "cell_type": "code",
   "execution_count": 90,
   "metadata": {},
   "outputs": [
    {
     "name": "stdout",
     "output_type": "stream",
     "text": [
      "p-значение:  1.1481243947765852e-198\n",
      "Отвергаем нулевую гипотезу\n"
     ]
    }
   ],
   "source": [
    "results = st.ttest_ind(smart_revenue, ultra_revenue)\n",
    "\n",
    "print('p-значение: ', results.pvalue)\n",
    "\n",
    "if results.pvalue < alpha:\n",
    "    print(\"Отвергаем нулевую гипотезу\")\n",
    "else:\n",
    "    print(\"Не получилось отвергнуть нулевую гипотезу\") "
   ]
  },
  {
   "cell_type": "markdown",
   "metadata": {},
   "source": [
    "Вероятность того, что средняя выручка по тарифу Смарт совпадает со средней выручкой по тарифу Ультра меньше критического уровня статистической значимости 0.05, поэтому нулевую гипотезу отвергаем."
   ]
  },
  {
   "cell_type": "markdown",
   "metadata": {},
   "source": [
    "Посчитаем средние выручки по двум тарифам."
   ]
  },
  {
   "cell_type": "code",
   "execution_count": 91,
   "metadata": {},
   "outputs": [
    {
     "name": "stdout",
     "output_type": "stream",
     "text": [
      "Средняя выручка по тарифу Смарт составляет: 1252.76.\n"
     ]
    }
   ],
   "source": [
    "print(f\"Средняя выручка по тарифу Смарт составляет: {round(smart_revenue.mean(), 2)}.\")"
   ]
  },
  {
   "cell_type": "code",
   "execution_count": 92,
   "metadata": {},
   "outputs": [
    {
     "name": "stdout",
     "output_type": "stream",
     "text": [
      "Средняя выручка по тарифу Ультра составляет: 2049.23.\n"
     ]
    }
   ],
   "source": [
    "print(f\"Средняя выручка по тарифу Ультра составляет: {round(ultra_revenue.mean(), 2)}.\")"
   ]
  },
  {
   "cell_type": "markdown",
   "metadata": {},
   "source": [
    "Средние выручки по тарифам Смарт и Ультра различаются. Средняя выручка по тарифу Ультра выше, чем по тарифу Смарт. "
   ]
  },
  {
   "cell_type": "markdown",
   "metadata": {},
   "source": [
    "**Сформулируем гипотезы для тарифов Смарт и Ультра**:\n",
    "\n",
    "- **H0** - средняя выручка пользователей из Москвы не отличается от выручки пользователей из других регионов;\n",
    "- **H1** - средняя выручка пользователей из Москвы отличается от выручки пользователей из других регионов."
   ]
  },
  {
   "cell_type": "markdown",
   "metadata": {},
   "source": [
    "В переменную **_moscow_revenue_** запишем выручку по Москве, в переменную **other_cities_revenue** запишем выручки по остальным городам. С помощью логической индексации уберем пустые значения, которые образовались при удалении выбросов."
   ]
  },
  {
   "cell_type": "code",
   "execution_count": 93,
   "metadata": {},
   "outputs": [],
   "source": [
    "moscow_revenue = df.loc[(df['city'] == 'Москва') & (df['monthly_revenue'].notna()), 'monthly_revenue']"
   ]
  },
  {
   "cell_type": "code",
   "execution_count": 94,
   "metadata": {},
   "outputs": [],
   "source": [
    "other_cities_revenue = df.loc[(df['city'] != 'Москва') & (df['monthly_revenue'].notna()), 'monthly_revenue']"
   ]
  },
  {
   "cell_type": "markdown",
   "metadata": {},
   "source": [
    "Введем критический уровень статистической значимости 0.05. Если p-value окажется меньше него - отвергаем гипотезу."
   ]
  },
  {
   "cell_type": "code",
   "execution_count": 95,
   "metadata": {},
   "outputs": [],
   "source": [
    "alpha = .05"
   ]
  },
  {
   "cell_type": "markdown",
   "metadata": {},
   "source": [
    "Произведем расчеты с помощью метода scipy.stats.ttest_ind()."
   ]
  },
  {
   "cell_type": "code",
   "execution_count": 96,
   "metadata": {},
   "outputs": [
    {
     "name": "stdout",
     "output_type": "stream",
     "text": [
      "p-значение:  0.2465723257484849\n",
      "Не получилось отвергнуть нулевую гипотезу\n"
     ]
    }
   ],
   "source": [
    "results = st.ttest_ind(moscow_revenue, other_cities_revenue)\n",
    "\n",
    "print('p-значение: ', results.pvalue)\n",
    "\n",
    "if results.pvalue < alpha:\n",
    "    print(\"Отвергаем нулевую гипотезу\")\n",
    "else:\n",
    "    print(\"Не получилось отвергнуть нулевую гипотезу\") "
   ]
  },
  {
   "cell_type": "markdown",
   "metadata": {},
   "source": [
    "Вероятность выше 24%. Посмотрим на среднюю выручку по Москве и остальным городам."
   ]
  },
  {
   "cell_type": "code",
   "execution_count": 97,
   "metadata": {},
   "outputs": [
    {
     "name": "stdout",
     "output_type": "stream",
     "text": [
      "Средняя выручка по Москве составляет: 1528.26.\n"
     ]
    }
   ],
   "source": [
    "print(f\"Средняя выручка по Москве составляет: {round(moscow_revenue.mean(), 2)}.\")"
   ]
  },
  {
   "cell_type": "code",
   "execution_count": 98,
   "metadata": {},
   "outputs": [
    {
     "name": "stdout",
     "output_type": "stream",
     "text": [
      "Средняя выручка по остальным городам составляет: 1489.67.\n"
     ]
    }
   ],
   "source": [
    "print(f\"Средняя выручка по остальным городам составляет: {round(other_cities_revenue.mean(), 2)}.\")"
   ]
  },
  {
   "cell_type": "markdown",
   "metadata": {},
   "source": [
    "В Москве, в среднем пользователи платят на 39 рублей больше чем в регионах. Разница не оказалась статистически значимой.\n",
    "Утверждение верно, что средняя выручка пользователей из Москвы не отличается от выручки пользователей из других регионов."
   ]
  },
  {
   "cell_type": "markdown",
   "metadata": {},
   "source": [
    "### Вывод"
   ]
  },
  {
   "cell_type": "markdown",
   "metadata": {},
   "source": [
    "- нулевая гипотеза о равенстве средних выручек по тарифам Смарт и Ультра отвергнута;\n",
    "- средние выручки по тарифам Смарт и Ультра различаются. Средняя выручка по тарифу Ультра 2049.23 выше, чем по тарифу Смарт 1252.76;\n",
    "- нулевая гипотеза о том, что средняя выручка пользователей из Москвы не отличается от выручки пользователей из других регионов не опровергнута;\n",
    "- в Москве, в среднем пользователи платят на 39 рублей больше чем в регионах. Разница не оказалась статистически значимой."
   ]
  },
  {
   "cell_type": "markdown",
   "metadata": {},
   "source": [
    "## Общий вывод"
   ]
  },
  {
   "cell_type": "markdown",
   "metadata": {},
   "source": [
    "Перед нами стояла задача - определить лучший тариф.\n",
    "\n",
    "С точки зрения дохода, лучшим тарифом стал Смарт, так как он приносит более 58% дохода."
   ]
  },
  {
   "cell_type": "code",
   "execution_count": 99,
   "metadata": {},
   "outputs": [
    {
     "data": {
      "text/plain": [
       "<Figure size 432x288 with 0 Axes>"
      ]
     },
     "metadata": {},
     "output_type": "display_data"
    },
    {
     "data": {
      "image/png": "[encoded data removed]",
      "text/plain": [
       "<Figure size 432x432 with 1 Axes>"
      ]
     },
     "metadata": {},
     "output_type": "display_data"
    }
   ],
   "source": [
    "pie_plotting(revenue_by_tariff, 'Доход по тарифам', 'monthly_revenue', [0, 0.1])"
   ]
  },
  {
   "cell_type": "markdown",
   "metadata": {},
   "source": [
    "Стоит отметить, что тарифом пользуется более 70% пользователей."
   ]
  },
  {
   "cell_type": "code",
   "execution_count": 100,
   "metadata": {},
   "outputs": [
    {
     "data": {
      "text/plain": [
       "<Figure size 432x288 with 0 Axes>"
      ]
     },
     "metadata": {},
     "output_type": "display_data"
    },
    {
     "data": {
      "image/png": "[encoded data removed]",
      "text/plain": [
       "<Figure size 432x432 with 1 Axes>"
      ]
     },
     "metadata": {},
     "output_type": "display_data"
    }
   ],
   "source": [
    "pie_plotting(users_by_tariff, 'Распределение пользователей по тарифам', 'user_id', [0, 0.1])"
   ]
  },
  {
   "cell_type": "markdown",
   "metadata": {},
   "source": [
    "Тариф Смарт приносит болше дохода из-за переплат пользователей. Более 88% пользователей переплачивают по тарифу. Переплаты за весь исследуемый период (2018 год) составил 1649401 рубль."
   ]
  },
  {
   "cell_type": "code",
   "execution_count": 101,
   "metadata": {},
   "outputs": [
    {
     "data": {
      "text/plain": [
       "<Figure size 432x288 with 0 Axes>"
      ]
     },
     "metadata": {},
     "output_type": "display_data"
    },
    {
     "data": {
      "image/png": "[encoded data removed]",
      "text/plain": [
       "<Figure size 432x432 with 1 Axes>"
      ]
     },
     "metadata": {},
     "output_type": "display_data"
    }
   ],
   "source": [
    "pie_plotting(overpayments, 'Переплаты по тарифам', 'overpayments', [0, 0.35])"
   ]
  },
  {
   "cell_type": "code",
   "execution_count": 102,
   "metadata": {},
   "outputs": [
    {
     "data": {
      "text/plain": [
       "<Figure size 432x288 with 0 Axes>"
      ]
     },
     "metadata": {},
     "output_type": "display_data"
    },
    {
     "data": {
      "image/png": "[encoded data removed]",
      "text/plain": [
       "<Figure size 432x432 with 1 Axes>"
      ]
     },
     "metadata": {},
     "output_type": "display_data"
    }
   ],
   "source": [
    "pie_plotting(overpaymented_users, 'Пользователи, переплачивающие за тарифы', 'user_id', [0, 0.2])"
   ]
  },
  {
   "cell_type": "markdown",
   "metadata": {},
   "source": [
    "Более 56% пользователей переплачивают за интренет-трафик и за минуты разговора, более 24%, меньше всего переплачивают за смс-сообщения, более 18%."
   ]
  },
  {
   "cell_type": "code",
   "execution_count": 103,
   "metadata": {},
   "outputs": [
    {
     "data": {
      "text/plain": [
       "<Figure size 432x288 with 0 Axes>"
      ]
     },
     "metadata": {},
     "output_type": "display_data"
    },
    {
     "data": {
      "image/png": "[encoded data removed]",
      "text/plain": [
       "<Figure size 432x432 with 1 Axes>"
      ]
     },
     "metadata": {},
     "output_type": "display_data"
    }
   ],
   "source": [
    "pie_plotting(overpayments_smart, 'Переплаты по услугам тарифа Смарт', 'count', [0, 0, 0.08])"
   ]
  },
  {
   "cell_type": "markdown",
   "metadata": {},
   "source": [
    "С точки зрения комфортного для пользователей, то лучший - тариф Ультра. Пользователи практически не переплачивают и пользуются только предоплаченными услугами. По расходу интрнет-трафика, пользователи стараются войти в лимит предоплаченного объема, хотя некоторым это не удается сделать и приходится доплачивать за сверх лимит. За 2018 год переплата пользователей тарифа Ультра по интернет-трафику составила 118350 рублей."
   ]
  },
  {
   "cell_type": "code",
   "execution_count": 104,
   "metadata": {},
   "outputs": [
    {
     "data": {
      "text/plain": [
       "<Figure size 432x288 with 0 Axes>"
      ]
     },
     "metadata": {},
     "output_type": "display_data"
    },
    {
     "data": {
      "image/png": "[encoded data removed]",
      "text/plain": [
       "<Figure size 432x432 with 1 Axes>"
      ]
     },
     "metadata": {},
     "output_type": "display_data"
    }
   ],
   "source": [
    "pie_plotting(overpayments_by_gb, 'Переплаты по интерент-трафику', 'overpayments', [0, 0.35])"
   ]
  },
  {
   "cell_type": "markdown",
   "metadata": {},
   "source": [
    "Среднестатистическому пользователю тарифа Смарт достаточно предоплаченных 417 минут и 33 смс, но за интернет-трафик 16.27 Гб придется доплатить (сверх лимит 1.27 Гб). Среднестатистическому пользователю тарифа Ультра достаточно предоплаченных 483 минут и 39 смс интернет-трафик 17.99 Гб.\n",
    "\n",
    "Также стоит отметить, что пользователи обоих тарифов редко отправляют смс-сообщения."
   ]
  }
 ],
 "metadata": {
  "ExecuteTimeLog": [
   {
    "duration": 1553,
    "start_time": "2022-01-13T20:54:32.913Z"
   },
   {
    "duration": 217,
    "start_time": "2022-01-13T20:54:56.422Z"
   },
   {
    "duration": 169,
    "start_time": "2022-01-13T20:55:12.034Z"
   },
   {
    "duration": 114,
    "start_time": "2022-01-13T20:55:27.276Z"
   },
   {
    "duration": 20,
    "start_time": "2022-01-13T20:55:42.015Z"
   },
   {
    "duration": 32,
    "start_time": "2022-01-13T20:55:55.148Z"
   },
   {
    "duration": 3,
    "start_time": "2022-01-13T20:56:13.974Z"
   },
   {
    "duration": 20,
    "start_time": "2022-01-13T20:56:27.751Z"
   },
   {
    "duration": 40,
    "start_time": "2022-01-13T20:56:33.758Z"
   },
   {
    "duration": 7,
    "start_time": "2022-01-13T20:56:40.493Z"
   },
   {
    "duration": 44,
    "start_time": "2022-01-13T20:56:47.034Z"
   },
   {
    "duration": 13,
    "start_time": "2022-01-13T20:57:11.776Z"
   },
   {
    "duration": 23,
    "start_time": "2022-01-13T20:57:19.434Z"
   },
   {
    "duration": 5,
    "start_time": "2022-01-13T20:57:25.446Z"
   },
   {
    "duration": 40,
    "start_time": "2022-01-13T20:57:31.245Z"
   },
   {
    "duration": 11,
    "start_time": "2022-01-13T20:59:05.118Z"
   },
   {
    "duration": 21,
    "start_time": "2022-01-13T20:59:11.475Z"
   },
   {
    "duration": 5,
    "start_time": "2022-01-13T20:59:17.797Z"
   },
   {
    "duration": 13,
    "start_time": "2022-01-13T20:59:46.438Z"
   },
   {
    "duration": 10,
    "start_time": "2022-01-13T20:59:51.996Z"
   },
   {
    "duration": 6,
    "start_time": "2022-01-13T20:59:57.347Z"
   },
   {
    "duration": 23,
    "start_time": "2022-01-13T21:00:20.860Z"
   },
   {
    "duration": 9,
    "start_time": "2022-01-13T21:00:26.808Z"
   },
   {
    "duration": 5,
    "start_time": "2022-01-13T21:00:32.556Z"
   },
   {
    "duration": 21,
    "start_time": "2022-01-13T21:00:38.501Z"
   },
   {
    "duration": 102,
    "start_time": "2022-01-13T21:02:04.654Z"
   },
   {
    "duration": 22,
    "start_time": "2022-01-13T21:02:19.747Z"
   },
   {
    "duration": 269,
    "start_time": "2022-01-13T21:02:50.015Z"
   },
   {
    "duration": 8,
    "start_time": "2022-01-13T21:03:11.817Z"
   },
   {
    "duration": 5,
    "start_time": "2022-01-13T21:03:19.674Z"
   },
   {
    "duration": 8,
    "start_time": "2022-01-13T21:03:56.555Z"
   },
   {
    "duration": 13,
    "start_time": "2022-01-13T21:04:01.811Z"
   },
   {
    "duration": 74,
    "start_time": "2022-01-13T21:04:25.529Z"
   },
   {
    "duration": 48,
    "start_time": "2022-01-13T21:04:51.218Z"
   },
   {
    "duration": 10,
    "start_time": "2022-01-13T21:04:57.358Z"
   },
   {
    "duration": 24,
    "start_time": "2022-01-13T21:05:19.807Z"
   },
   {
    "duration": 12,
    "start_time": "2022-01-13T21:05:24.697Z"
   },
   {
    "duration": 23,
    "start_time": "2022-01-13T21:05:51.574Z"
   },
   {
    "duration": 28,
    "start_time": "2022-01-13T21:06:05.039Z"
   },
   {
    "duration": 10,
    "start_time": "2022-01-13T21:06:11.681Z"
   },
   {
    "duration": 127,
    "start_time": "2022-01-13T21:06:26.396Z"
   },
   {
    "duration": 12,
    "start_time": "2022-01-13T21:06:36.535Z"
   },
   {
    "duration": 17,
    "start_time": "2022-01-13T21:06:42.230Z"
   },
   {
    "duration": 19,
    "start_time": "2022-01-13T21:06:48.211Z"
   },
   {
    "duration": 7,
    "start_time": "2022-01-13T21:07:00.732Z"
   },
   {
    "duration": 12,
    "start_time": "2022-01-13T21:07:05.730Z"
   },
   {
    "duration": 29,
    "start_time": "2022-01-13T21:07:17.192Z"
   },
   {
    "duration": 12,
    "start_time": "2022-01-13T21:07:24.968Z"
   },
   {
    "duration": 9,
    "start_time": "2022-01-13T21:07:42.644Z"
   },
   {
    "duration": 6,
    "start_time": "2022-01-13T21:07:58.675Z"
   },
   {
    "duration": 9,
    "start_time": "2022-01-13T21:08:11.544Z"
   },
   {
    "duration": 15,
    "start_time": "2022-01-13T21:08:34.857Z"
   },
   {
    "duration": 7,
    "start_time": "2022-01-13T21:09:05.981Z"
   },
   {
    "duration": 97,
    "start_time": "2022-01-13T21:09:11.327Z"
   },
   {
    "duration": 8,
    "start_time": "2022-01-13T21:09:20.247Z"
   },
   {
    "duration": 9,
    "start_time": "2022-01-13T21:10:32.018Z"
   },
   {
    "duration": 8,
    "start_time": "2022-01-13T21:10:35.287Z"
   },
   {
    "duration": 10,
    "start_time": "2022-01-13T21:11:45.189Z"
   },
   {
    "duration": 15,
    "start_time": "2022-01-13T21:12:46.348Z"
   },
   {
    "duration": 325,
    "start_time": "2022-01-13T21:13:03.477Z"
   },
   {
    "duration": 143,
    "start_time": "2022-01-13T21:13:07.470Z"
   },
   {
    "duration": 18,
    "start_time": "2022-01-13T21:13:10.692Z"
   },
   {
    "duration": 8,
    "start_time": "2022-01-13T21:13:44.948Z"
   },
   {
    "duration": 7,
    "start_time": "2022-01-13T21:14:26.234Z"
   },
   {
    "duration": 24,
    "start_time": "2022-01-13T21:16:05.975Z"
   },
   {
    "duration": 24,
    "start_time": "2022-01-13T21:16:24.962Z"
   },
   {
    "duration": 512,
    "start_time": "2022-01-13T21:16:45.386Z"
   },
   {
    "duration": 24,
    "start_time": "2022-01-13T21:16:52.127Z"
   },
   {
    "duration": 292,
    "start_time": "2022-01-13T21:17:25.325Z"
   },
   {
    "duration": 439,
    "start_time": "2022-01-13T21:17:45.401Z"
   },
   {
    "duration": 287,
    "start_time": "2022-01-13T21:18:06.906Z"
   },
   {
    "duration": 291,
    "start_time": "2022-01-13T21:18:12.188Z"
   },
   {
    "duration": 7,
    "start_time": "2022-01-13T21:18:29.109Z"
   },
   {
    "duration": 5,
    "start_time": "2022-01-13T21:19:33.799Z"
   },
   {
    "duration": 6,
    "start_time": "2022-01-13T21:19:37.215Z"
   },
   {
    "duration": 6,
    "start_time": "2022-01-13T21:19:58.179Z"
   },
   {
    "duration": 6,
    "start_time": "2022-01-13T21:20:03.348Z"
   },
   {
    "duration": 8,
    "start_time": "2022-01-13T21:20:42.350Z"
   },
   {
    "duration": 6,
    "start_time": "2022-01-13T21:21:23.610Z"
   },
   {
    "duration": 382,
    "start_time": "2022-01-13T21:21:36.661Z"
   },
   {
    "duration": 5,
    "start_time": "2022-01-13T21:21:51.194Z"
   },
   {
    "duration": 30,
    "start_time": "2022-01-13T21:22:02.896Z"
   },
   {
    "duration": 7,
    "start_time": "2022-01-13T21:22:47.943Z"
   },
   {
    "duration": 4,
    "start_time": "2022-01-13T21:22:57.041Z"
   },
   {
    "duration": 2355,
    "start_time": "2022-01-13T21:23:02.277Z"
   },
   {
    "duration": 16,
    "start_time": "2022-01-13T21:24:10.455Z"
   },
   {
    "duration": 18,
    "start_time": "2022-01-13T21:24:20.348Z"
   },
   {
    "duration": 18,
    "start_time": "2022-01-13T21:24:29.787Z"
   },
   {
    "duration": 9,
    "start_time": "2022-01-13T21:24:43.035Z"
   },
   {
    "duration": 5,
    "start_time": "2022-01-13T21:24:55.580Z"
   },
   {
    "duration": 6,
    "start_time": "2022-01-13T21:25:12.594Z"
   },
   {
    "duration": 4,
    "start_time": "2022-01-13T21:25:24.564Z"
   },
   {
    "duration": 13,
    "start_time": "2022-01-13T21:25:29.234Z"
   },
   {
    "duration": 18,
    "start_time": "2022-01-13T21:26:32.178Z"
   },
   {
    "duration": 16,
    "start_time": "2022-01-13T21:26:44.375Z"
   },
   {
    "duration": 16,
    "start_time": "2022-01-13T21:26:56.592Z"
   },
   {
    "duration": 20,
    "start_time": "2022-01-13T21:27:10.135Z"
   },
   {
    "duration": 20,
    "start_time": "2022-01-13T21:27:14.319Z"
   },
   {
    "duration": 19,
    "start_time": "2022-01-13T21:27:35.303Z"
   },
   {
    "duration": 22,
    "start_time": "2022-01-13T21:28:03.438Z"
   },
   {
    "duration": 6,
    "start_time": "2022-01-13T21:28:19.325Z"
   },
   {
    "duration": 6,
    "start_time": "2022-01-13T21:29:18.451Z"
   },
   {
    "duration": 4,
    "start_time": "2022-01-13T21:29:25.565Z"
   },
   {
    "duration": 35,
    "start_time": "2022-01-13T21:29:36.270Z"
   },
   {
    "duration": 5,
    "start_time": "2022-01-13T21:29:57.736Z"
   },
   {
    "duration": 301,
    "start_time": "2022-01-13T21:30:09.691Z"
   },
   {
    "duration": 8,
    "start_time": "2022-01-13T21:30:40.340Z"
   },
   {
    "duration": 4,
    "start_time": "2022-01-13T21:30:45.713Z"
   },
   {
    "duration": 2906,
    "start_time": "2022-01-13T21:30:51.745Z"
   },
   {
    "duration": 12,
    "start_time": "2022-01-13T21:31:31.989Z"
   },
   {
    "duration": 11,
    "start_time": "2022-01-13T21:31:38.790Z"
   },
   {
    "duration": 140,
    "start_time": "2022-01-13T21:31:57.198Z"
   },
   {
    "duration": 19,
    "start_time": "2022-01-13T21:32:19.474Z"
   },
   {
    "duration": 14,
    "start_time": "2022-01-13T21:32:25.725Z"
   },
   {
    "duration": 7,
    "start_time": "2022-01-13T21:33:47.437Z"
   },
   {
    "duration": 6,
    "start_time": "2022-01-13T21:33:52.468Z"
   },
   {
    "duration": 4,
    "start_time": "2022-01-13T21:34:03.889Z"
   },
   {
    "duration": 6,
    "start_time": "2022-01-13T21:34:15.679Z"
   },
   {
    "duration": 5,
    "start_time": "2022-01-13T21:34:38.108Z"
   },
   {
    "duration": 5,
    "start_time": "2022-01-13T21:34:45.417Z"
   },
   {
    "duration": 90,
    "start_time": "2022-01-13T21:35:13.586Z"
   },
   {
    "duration": 8,
    "start_time": "2022-01-13T21:35:18.486Z"
   },
   {
    "duration": 4,
    "start_time": "2022-01-13T21:35:31.222Z"
   },
   {
    "duration": 7,
    "start_time": "2022-01-13T21:35:48.023Z"
   },
   {
    "duration": 5,
    "start_time": "2022-01-13T21:36:00.915Z"
   },
   {
    "duration": 5,
    "start_time": "2022-01-13T21:36:06.777Z"
   },
   {
    "duration": 159,
    "start_time": "2022-01-13T21:36:57.934Z"
   },
   {
    "duration": 161,
    "start_time": "2022-01-13T21:37:13.929Z"
   },
   {
    "duration": 170,
    "start_time": "2022-01-13T21:37:38.959Z"
   },
   {
    "duration": 173,
    "start_time": "2022-01-13T21:37:48.166Z"
   },
   {
    "duration": 178,
    "start_time": "2022-01-13T21:38:07.178Z"
   },
   {
    "duration": 160,
    "start_time": "2022-01-13T21:38:25.982Z"
   },
   {
    "duration": 1478,
    "start_time": "2022-01-13T21:39:23.851Z"
   },
   {
    "duration": 214,
    "start_time": "2022-01-13T21:39:25.332Z"
   },
   {
    "duration": 180,
    "start_time": "2022-01-13T21:39:25.550Z"
   },
   {
    "duration": 121,
    "start_time": "2022-01-13T21:39:25.733Z"
   },
   {
    "duration": 20,
    "start_time": "2022-01-13T21:39:25.856Z"
   },
   {
    "duration": 33,
    "start_time": "2022-01-13T21:39:25.879Z"
   },
   {
    "duration": 19,
    "start_time": "2022-01-13T21:39:25.915Z"
   },
   {
    "duration": 32,
    "start_time": "2022-01-13T21:39:25.940Z"
   },
   {
    "duration": 7,
    "start_time": "2022-01-13T21:39:25.976Z"
   },
   {
    "duration": 42,
    "start_time": "2022-01-13T21:39:25.985Z"
   },
   {
    "duration": 44,
    "start_time": "2022-01-13T21:39:26.029Z"
   },
   {
    "duration": 22,
    "start_time": "2022-01-13T21:39:26.075Z"
   },
   {
    "duration": 5,
    "start_time": "2022-01-13T21:39:26.100Z"
   },
   {
    "duration": 82,
    "start_time": "2022-01-13T21:39:26.107Z"
   },
   {
    "duration": 12,
    "start_time": "2022-01-13T21:39:26.191Z"
   },
   {
    "duration": 22,
    "start_time": "2022-01-13T21:39:26.205Z"
   },
   {
    "duration": 5,
    "start_time": "2022-01-13T21:39:26.229Z"
   },
   {
    "duration": 12,
    "start_time": "2022-01-13T21:39:26.264Z"
   },
   {
    "duration": 12,
    "start_time": "2022-01-13T21:39:26.279Z"
   },
   {
    "duration": 7,
    "start_time": "2022-01-13T21:39:26.293Z"
   },
   {
    "duration": 19,
    "start_time": "2022-01-13T21:39:26.302Z"
   },
   {
    "duration": 10,
    "start_time": "2022-01-13T21:39:26.363Z"
   },
   {
    "duration": 5,
    "start_time": "2022-01-13T21:39:26.380Z"
   },
   {
    "duration": 27,
    "start_time": "2022-01-13T21:39:26.389Z"
   },
   {
    "duration": 133,
    "start_time": "2022-01-13T21:39:26.419Z"
   },
   {
    "duration": 27,
    "start_time": "2022-01-13T21:39:26.554Z"
   },
   {
    "duration": 287,
    "start_time": "2022-01-13T21:39:26.583Z"
   },
   {
    "duration": 7,
    "start_time": "2022-01-13T21:39:26.872Z"
   },
   {
    "duration": 8,
    "start_time": "2022-01-13T21:39:26.882Z"
   },
   {
    "duration": 9,
    "start_time": "2022-01-13T21:39:26.892Z"
   },
   {
    "duration": 14,
    "start_time": "2022-01-13T21:39:26.904Z"
   },
   {
    "duration": 114,
    "start_time": "2022-01-13T21:39:26.920Z"
   },
   {
    "duration": 62,
    "start_time": "2022-01-13T21:39:27.036Z"
   },
   {
    "duration": 10,
    "start_time": "2022-01-13T21:39:27.101Z"
   },
   {
    "duration": 25,
    "start_time": "2022-01-13T21:39:27.114Z"
   },
   {
    "duration": 11,
    "start_time": "2022-01-13T21:39:27.163Z"
   },
   {
    "duration": 25,
    "start_time": "2022-01-13T21:39:27.177Z"
   },
   {
    "duration": 12,
    "start_time": "2022-01-13T21:39:27.204Z"
   },
   {
    "duration": 46,
    "start_time": "2022-01-13T21:39:27.219Z"
   },
   {
    "duration": 14,
    "start_time": "2022-01-13T21:39:27.268Z"
   },
   {
    "duration": 14,
    "start_time": "2022-01-13T21:39:27.284Z"
   },
   {
    "duration": 14,
    "start_time": "2022-01-13T21:39:27.301Z"
   },
   {
    "duration": 49,
    "start_time": "2022-01-13T21:39:27.318Z"
   },
   {
    "duration": 14,
    "start_time": "2022-01-13T21:39:27.370Z"
   },
   {
    "duration": 30,
    "start_time": "2022-01-13T21:39:27.387Z"
   },
   {
    "duration": 53,
    "start_time": "2022-01-13T21:39:27.420Z"
   },
   {
    "duration": 9,
    "start_time": "2022-01-13T21:39:27.475Z"
   },
   {
    "duration": 6,
    "start_time": "2022-01-13T21:39:27.486Z"
   },
   {
    "duration": 10,
    "start_time": "2022-01-13T21:39:27.495Z"
   },
   {
    "duration": 56,
    "start_time": "2022-01-13T21:39:27.507Z"
   },
   {
    "duration": 8,
    "start_time": "2022-01-13T21:39:27.565Z"
   },
   {
    "duration": 8,
    "start_time": "2022-01-13T21:39:27.575Z"
   },
   {
    "duration": 6,
    "start_time": "2022-01-13T21:39:27.586Z"
   },
   {
    "duration": 431,
    "start_time": "2022-01-13T21:39:27.595Z"
   },
   {
    "duration": 5,
    "start_time": "2022-01-13T21:39:28.028Z"
   },
   {
    "duration": 45,
    "start_time": "2022-01-13T21:39:28.036Z"
   },
   {
    "duration": 7,
    "start_time": "2022-01-13T21:39:28.084Z"
   },
   {
    "duration": 4,
    "start_time": "2022-01-13T21:39:28.094Z"
   },
   {
    "duration": 2377,
    "start_time": "2022-01-13T21:39:28.100Z"
   },
   {
    "duration": 18,
    "start_time": "2022-01-13T21:39:30.480Z"
   },
   {
    "duration": 19,
    "start_time": "2022-01-13T21:39:30.500Z"
   },
   {
    "duration": 8,
    "start_time": "2022-01-13T21:39:30.521Z"
   },
   {
    "duration": 4,
    "start_time": "2022-01-13T21:39:30.563Z"
   },
   {
    "duration": 8,
    "start_time": "2022-01-13T21:39:30.570Z"
   },
   {
    "duration": 13,
    "start_time": "2022-01-13T21:39:30.580Z"
   },
   {
    "duration": 15,
    "start_time": "2022-01-13T21:39:30.596Z"
   },
   {
    "duration": 22,
    "start_time": "2022-01-13T21:39:30.613Z"
   },
   {
    "duration": 14,
    "start_time": "2022-01-13T21:39:30.664Z"
   },
   {
    "duration": 16,
    "start_time": "2022-01-13T21:39:30.682Z"
   },
   {
    "duration": 20,
    "start_time": "2022-01-13T21:39:30.700Z"
   },
   {
    "duration": 42,
    "start_time": "2022-01-13T21:39:30.723Z"
   },
   {
    "duration": 20,
    "start_time": "2022-01-13T21:39:30.768Z"
   },
   {
    "duration": 19,
    "start_time": "2022-01-13T21:39:30.791Z"
   },
   {
    "duration": 26,
    "start_time": "2022-01-13T21:39:30.813Z"
   },
   {
    "duration": 21,
    "start_time": "2022-01-13T21:39:30.841Z"
   },
   {
    "duration": 42,
    "start_time": "2022-01-13T21:39:30.865Z"
   },
   {
    "duration": 5,
    "start_time": "2022-01-13T21:39:30.909Z"
   },
   {
    "duration": 280,
    "start_time": "2022-01-13T21:39:30.916Z"
   },
   {
    "duration": 8,
    "start_time": "2022-01-13T21:39:31.199Z"
   },
   {
    "duration": 16,
    "start_time": "2022-01-13T21:39:31.210Z"
   },
   {
    "duration": 2900,
    "start_time": "2022-01-13T21:39:31.229Z"
   },
   {
    "duration": 12,
    "start_time": "2022-01-13T21:39:34.132Z"
   },
   {
    "duration": 12,
    "start_time": "2022-01-13T21:39:34.164Z"
   },
   {
    "duration": 11,
    "start_time": "2022-01-13T21:39:34.178Z"
   },
   {
    "duration": 11,
    "start_time": "2022-01-13T21:39:34.191Z"
   },
   {
    "duration": 8,
    "start_time": "2022-01-13T21:39:34.205Z"
   },
   {
    "duration": 47,
    "start_time": "2022-01-13T21:39:34.216Z"
   },
   {
    "duration": 6,
    "start_time": "2022-01-13T21:39:34.266Z"
   },
   {
    "duration": 8,
    "start_time": "2022-01-13T21:39:34.274Z"
   },
   {
    "duration": 5,
    "start_time": "2022-01-13T21:39:34.285Z"
   },
   {
    "duration": 5,
    "start_time": "2022-01-13T21:39:34.293Z"
   },
   {
    "duration": 11,
    "start_time": "2022-01-13T21:39:34.300Z"
   },
   {
    "duration": 150,
    "start_time": "2022-01-13T21:39:34.313Z"
   },
   {
    "duration": 3,
    "start_time": "2022-01-13T21:39:34.465Z"
   },
   {
    "duration": 8,
    "start_time": "2022-01-13T21:39:34.471Z"
   },
   {
    "duration": 9,
    "start_time": "2022-01-13T21:39:34.482Z"
   },
   {
    "duration": 7,
    "start_time": "2022-01-13T21:39:34.493Z"
   },
   {
    "duration": 210,
    "start_time": "2022-01-13T21:39:34.502Z"
   },
   {
    "duration": 183,
    "start_time": "2022-01-13T21:39:34.715Z"
   },
   {
    "duration": 178,
    "start_time": "2022-01-13T21:39:34.901Z"
   },
   {
    "duration": 184,
    "start_time": "2022-01-13T21:39:35.081Z"
   },
   {
    "duration": 189,
    "start_time": "2022-01-13T21:39:35.267Z"
   },
   {
    "duration": 182,
    "start_time": "2022-01-13T21:39:35.458Z"
   },
   {
    "duration": 1191,
    "start_time": "2022-01-16T09:42:48.829Z"
   },
   {
    "duration": 139,
    "start_time": "2022-01-16T09:42:50.022Z"
   },
   {
    "duration": 111,
    "start_time": "2022-01-16T09:42:50.163Z"
   },
   {
    "duration": 78,
    "start_time": "2022-01-16T09:42:50.276Z"
   },
   {
    "duration": 17,
    "start_time": "2022-01-16T09:42:50.355Z"
   },
   {
    "duration": 35,
    "start_time": "2022-01-16T09:42:50.373Z"
   },
   {
    "duration": 10,
    "start_time": "2022-01-16T09:42:50.409Z"
   },
   {
    "duration": 17,
    "start_time": "2022-01-16T09:42:50.422Z"
   },
   {
    "duration": 3,
    "start_time": "2022-01-16T09:42:50.441Z"
   },
   {
    "duration": 27,
    "start_time": "2022-01-16T09:42:50.445Z"
   },
   {
    "duration": 7,
    "start_time": "2022-01-16T09:42:50.473Z"
   },
   {
    "duration": 17,
    "start_time": "2022-01-16T09:42:50.481Z"
   },
   {
    "duration": 3,
    "start_time": "2022-01-16T09:42:50.499Z"
   },
   {
    "duration": 26,
    "start_time": "2022-01-16T09:42:50.528Z"
   },
   {
    "duration": 6,
    "start_time": "2022-01-16T09:42:50.556Z"
   },
   {
    "duration": 16,
    "start_time": "2022-01-16T09:42:50.563Z"
   },
   {
    "duration": 4,
    "start_time": "2022-01-16T09:42:50.580Z"
   },
   {
    "duration": 8,
    "start_time": "2022-01-16T09:42:50.585Z"
   },
   {
    "duration": 34,
    "start_time": "2022-01-16T09:42:50.594Z"
   },
   {
    "duration": 5,
    "start_time": "2022-01-16T09:42:50.630Z"
   },
   {
    "duration": 11,
    "start_time": "2022-01-16T09:42:50.637Z"
   },
   {
    "duration": 7,
    "start_time": "2022-01-16T09:42:50.649Z"
   },
   {
    "duration": 3,
    "start_time": "2022-01-16T09:42:50.661Z"
   },
   {
    "duration": 13,
    "start_time": "2022-01-16T09:42:50.667Z"
   },
   {
    "duration": 92,
    "start_time": "2022-01-16T09:42:50.682Z"
   },
   {
    "duration": 12,
    "start_time": "2022-01-16T09:42:50.776Z"
   },
   {
    "duration": 169,
    "start_time": "2022-01-16T09:42:50.790Z"
   },
   {
    "duration": 5,
    "start_time": "2022-01-16T09:42:50.960Z"
   },
   {
    "duration": 6,
    "start_time": "2022-01-16T09:42:50.967Z"
   },
   {
    "duration": 7,
    "start_time": "2022-01-16T09:42:50.974Z"
   },
   {
    "duration": 7,
    "start_time": "2022-01-16T09:42:50.983Z"
   },
   {
    "duration": 78,
    "start_time": "2022-01-16T09:42:50.991Z"
   },
   {
    "duration": 29,
    "start_time": "2022-01-16T09:42:51.070Z"
   },
   {
    "duration": 7,
    "start_time": "2022-01-16T09:42:51.101Z"
   },
   {
    "duration": 28,
    "start_time": "2022-01-16T09:42:51.109Z"
   },
   {
    "duration": 6,
    "start_time": "2022-01-16T09:42:51.138Z"
   },
   {
    "duration": 26,
    "start_time": "2022-01-16T09:42:51.145Z"
   },
   {
    "duration": 7,
    "start_time": "2022-01-16T09:42:51.172Z"
   },
   {
    "duration": 6,
    "start_time": "2022-01-16T09:42:51.181Z"
   },
   {
    "duration": 10,
    "start_time": "2022-01-16T09:42:51.189Z"
   },
   {
    "duration": 8,
    "start_time": "2022-01-16T09:42:51.201Z"
   },
   {
    "duration": 23,
    "start_time": "2022-01-16T09:42:51.210Z"
   },
   {
    "duration": 5,
    "start_time": "2022-01-16T09:42:51.235Z"
   },
   {
    "duration": 8,
    "start_time": "2022-01-16T09:42:51.241Z"
   },
   {
    "duration": 16,
    "start_time": "2022-01-16T09:42:51.251Z"
   },
   {
    "duration": 7,
    "start_time": "2022-01-16T09:42:51.268Z"
   },
   {
    "duration": 5,
    "start_time": "2022-01-16T09:42:51.277Z"
   },
   {
    "duration": 4,
    "start_time": "2022-01-16T09:42:51.283Z"
   },
   {
    "duration": 42,
    "start_time": "2022-01-16T09:42:51.288Z"
   },
   {
    "duration": 9,
    "start_time": "2022-01-16T09:42:51.332Z"
   },
   {
    "duration": 4,
    "start_time": "2022-01-16T09:42:51.342Z"
   },
   {
    "duration": 10,
    "start_time": "2022-01-16T09:42:51.348Z"
   },
   {
    "duration": 5,
    "start_time": "2022-01-16T09:42:51.360Z"
   },
   {
    "duration": 263,
    "start_time": "2022-01-16T09:42:51.366Z"
   },
   {
    "duration": 3,
    "start_time": "2022-01-16T09:42:51.630Z"
   },
   {
    "duration": 16,
    "start_time": "2022-01-16T09:42:51.635Z"
   },
   {
    "duration": 4,
    "start_time": "2022-01-16T09:42:51.653Z"
   },
   {
    "duration": 4,
    "start_time": "2022-01-16T09:42:51.659Z"
   },
   {
    "duration": 1279,
    "start_time": "2022-01-16T09:42:51.664Z"
   },
   {
    "duration": 11,
    "start_time": "2022-01-16T09:42:52.944Z"
   },
   {
    "duration": 13,
    "start_time": "2022-01-16T09:42:52.956Z"
   },
   {
    "duration": 5,
    "start_time": "2022-01-16T09:42:52.970Z"
   },
   {
    "duration": 9,
    "start_time": "2022-01-16T09:42:52.976Z"
   },
   {
    "duration": 7,
    "start_time": "2022-01-16T09:42:52.986Z"
   },
   {
    "duration": 6,
    "start_time": "2022-01-16T09:42:52.994Z"
   },
   {
    "duration": 9,
    "start_time": "2022-01-16T09:42:53.001Z"
   },
   {
    "duration": 11,
    "start_time": "2022-01-16T09:42:53.027Z"
   },
   {
    "duration": 7,
    "start_time": "2022-01-16T09:42:53.043Z"
   },
   {
    "duration": 12,
    "start_time": "2022-01-16T09:42:53.052Z"
   },
   {
    "duration": 11,
    "start_time": "2022-01-16T09:42:53.065Z"
   },
   {
    "duration": 10,
    "start_time": "2022-01-16T09:42:53.077Z"
   },
   {
    "duration": 11,
    "start_time": "2022-01-16T09:42:53.088Z"
   },
   {
    "duration": 28,
    "start_time": "2022-01-16T09:42:53.100Z"
   },
   {
    "duration": 9,
    "start_time": "2022-01-16T09:42:53.130Z"
   },
   {
    "duration": 5,
    "start_time": "2022-01-16T09:42:53.140Z"
   },
   {
    "duration": 22,
    "start_time": "2022-01-16T09:42:53.146Z"
   },
   {
    "duration": 3,
    "start_time": "2022-01-16T09:42:53.170Z"
   },
   {
    "duration": 140,
    "start_time": "2022-01-16T09:42:53.174Z"
   },
   {
    "duration": 5,
    "start_time": "2022-01-16T09:42:53.327Z"
   },
   {
    "duration": 5,
    "start_time": "2022-01-16T09:42:53.333Z"
   },
   {
    "duration": 1477,
    "start_time": "2022-01-16T09:42:53.339Z"
   },
   {
    "duration": 13,
    "start_time": "2022-01-16T09:42:54.818Z"
   },
   {
    "duration": 7,
    "start_time": "2022-01-16T09:42:54.832Z"
   },
   {
    "duration": 9,
    "start_time": "2022-01-16T09:42:54.840Z"
   },
   {
    "duration": 10,
    "start_time": "2022-01-16T09:42:54.851Z"
   },
   {
    "duration": 3,
    "start_time": "2022-01-16T09:42:54.863Z"
   },
   {
    "duration": 10,
    "start_time": "2022-01-16T09:42:54.868Z"
   },
   {
    "duration": 4,
    "start_time": "2022-01-16T09:42:54.879Z"
   },
   {
    "duration": 7,
    "start_time": "2022-01-16T09:42:54.884Z"
   },
   {
    "duration": 5,
    "start_time": "2022-01-16T09:42:54.892Z"
   },
   {
    "duration": 28,
    "start_time": "2022-01-16T09:42:54.899Z"
   },
   {
    "duration": 4,
    "start_time": "2022-01-16T09:42:54.929Z"
   },
   {
    "duration": 71,
    "start_time": "2022-01-16T09:42:54.934Z"
   },
   {
    "duration": 5,
    "start_time": "2022-01-16T09:42:55.007Z"
   },
   {
    "duration": 4,
    "start_time": "2022-01-16T09:42:55.028Z"
   },
   {
    "duration": 5,
    "start_time": "2022-01-16T09:42:55.034Z"
   },
   {
    "duration": 7,
    "start_time": "2022-01-16T09:42:55.040Z"
   },
   {
    "duration": 115,
    "start_time": "2022-01-16T09:42:55.048Z"
   },
   {
    "duration": 101,
    "start_time": "2022-01-16T09:42:55.164Z"
   },
   {
    "duration": 103,
    "start_time": "2022-01-16T09:42:55.267Z"
   },
   {
    "duration": 100,
    "start_time": "2022-01-16T09:42:55.372Z"
   },
   {
    "duration": 107,
    "start_time": "2022-01-16T09:42:55.473Z"
   },
   {
    "duration": 106,
    "start_time": "2022-01-16T09:42:55.582Z"
   },
   {
    "duration": 308,
    "start_time": "2022-01-16T10:03:29.051Z"
   },
   {
    "duration": 250,
    "start_time": "2022-01-16T10:03:38.881Z"
   },
   {
    "duration": 16,
    "start_time": "2022-01-16T10:04:05.300Z"
   }
  ],
  "kernelspec": {
   "display_name": "Python 3",
   "language": "python",
   "name": "python3"
  },
  "language_info": {
   "codemirror_mode": {
    "name": "ipython",
    "version": 3
   },
   "file_extension": ".py",
   "mimetype": "text/x-python",
   "name": "python",
   "nbconvert_exporter": "python",
   "pygments_lexer": "ipython3",
   "version": "3.8.8"
  },
  "toc": {
   "base_numbering": 1,
   "nav_menu": {},
   "number_sections": true,
   "sideBar": true,
   "skip_h1_title": true,
   "title_cell": "Table of Contents",
   "title_sidebar": "Contents",
   "toc_cell": false,
   "toc_position": {
    "height": "calc(100% - 180px)",
    "left": "10px",
    "top": "150px",
    "width": "165px"
   },
   "toc_section_display": true,
   "toc_window_display": true
  }
 },
 "nbformat": 4,
 "nbformat_minor": 2
}
